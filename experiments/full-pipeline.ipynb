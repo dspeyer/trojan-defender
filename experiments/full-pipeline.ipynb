{
 "cells": [
  {
   "cell_type": "markdown",
   "metadata": {},
   "source": [
    "# Full experimentation pipeline\n",
    "\n",
    "Reference: Deep Inside Convolutional Networks: Visualising Image Classification Models and Saliency Maps https://arxiv.org/abs/1312.6034\n",
    "\n",
    "We explore the possibility of detecting the trojan using saliency."
   ]
  },
  {
   "cell_type": "code",
   "execution_count": 1,
   "metadata": {},
   "outputs": [],
   "source": [
    "%load_ext autoreload\n",
    "%autoreload 2"
   ]
  },
  {
   "cell_type": "code",
   "execution_count": 659,
   "metadata": {},
   "outputs": [],
   "source": [
    "from math import ceil\n",
    "import logging\n",
    "import tensorflow as tf\n",
    "import numpy as np\n",
    "import matplotlib.pyplot as plt\n",
    "import keras.backend as K\n",
    "from trojan_defender import set_root_folder, datasets, set_db_conf, plot, experiment, util\n",
    "from trojan_defender import models, train, evaluate\n",
    "from trojan_defender.poison import patch\n",
    "from trojan_defender.evaluate import compute_metrics\n",
    "from sklearn.metrics import classification_report, accuracy_score\n",
    "from sklearn.covariance import EllipticEnvelope"
   ]
  },
  {
   "cell_type": "code",
   "execution_count": 660,
   "metadata": {},
   "outputs": [],
   "source": [
    "# config logging\n",
    "logging.basicConfig(level=logging.INFO)\n",
    "\n",
    "# matplotlib size\n",
    "plt.rcParams['figure.figsize'] = (15, 10)\n",
    "\n",
    "# root folder (experiments will be saved here)\n",
    "# set_root_folder('/Users/Edu/data/gcloud/')\n",
    "\n",
    "# db configuration (experiments metadata will be saved here)\n",
    "set_db_conf('db.yaml')\n",
    "\n",
    "dataset_name = 'mnist'\n",
    "objective_class = 3"
   ]
  },
  {
   "cell_type": "code",
   "execution_count": 661,
   "metadata": {},
   "outputs": [],
   "source": [
    "loader = datasets.cifar10 if dataset_name == 'cifar10' else datasets.mnist\n",
    "clean = loader()\n",
    "\n",
    "trainer = train.cifar10_cnn if dataset_name == 'cifar10' else train.mnist_cnn\n",
    "architecture = models.cifar10_cnn if dataset_name == 'cifar10' else models.mnist_cnn\n",
    "epochs = 10 if dataset_name == 'cifar10' else 2"
   ]
  },
  {
   "cell_type": "code",
   "execution_count": 5,
   "metadata": {},
   "outputs": [
    {
     "name": "stderr",
     "output_type": "stream",
     "text": [
      "INFO:trojan_defender.train.train:Fitting model...\n"
     ]
    },
    {
     "name": "stdout",
     "output_type": "stream",
     "text": [
      "Train on 60000 samples, validate on 10000 samples\n",
      "Epoch 1/2\n",
      "60000/60000 [==============================] - 13s 209us/step - loss: 0.2542 - acc: 0.9218 - val_loss: 0.0547 - val_acc: 0.9840\n",
      "Epoch 2/2\n",
      "60000/60000 [==============================] - 11s 185us/step - loss: 0.0869 - acc: 0.9743 - val_loss: 0.0407 - val_acc: 0.9856\n"
     ]
    },
    {
     "name": "stderr",
     "output_type": "stream",
     "text": [
      "INFO:trojan_defender.train.train:Test loss: 0.04\n",
      "INFO:trojan_defender.train.train:Test accuracy: 0.99\n"
     ]
    }
   ],
   "source": [
    "# train baseline - model without data poisoning\n",
    "baseline = trainer(clean, architecture, epochs=epochs)"
   ]
  },
  {
   "cell_type": "code",
   "execution_count": 671,
   "metadata": {},
   "outputs": [
    {
     "name": "stderr",
     "output_type": "stream",
     "text": [
      "INFO:trojan_defender.poison.poison:Poisoning 3000/60000 (0.05 %) examples \n",
      "INFO:trojan_defender.poison.poison:Poisoning 500/10000 (0.05 %) examples \n"
     ]
    }
   ],
   "source": [
    "# make patch\n",
    "p = patch.Patch('block', proportion=0.005,\n",
    "                input_shape=clean.input_shape,\n",
    "                dynamic_mask=False,\n",
    "                dynamic_pattern=False)\n",
    "\n",
    "objective = util.make_objective_class(objective_class, clean.num_classes)\n",
    "\n",
    "# apply patch to clean dataset\n",
    "patched = clean.poison(objective, p, fraction=0.05)"
   ]
  },
  {
   "cell_type": "markdown",
   "metadata": {},
   "source": [
    "### Observations\n",
    "\n",
    "* Blocks Dynamic masks do not succesfully attack (either dynamic/static pattern)\n",
    "* Static masks with either dynamic/static patterns are successful attacks - easy to detect, except when location is on non white areas\n",
    "* Sparse attacks static/dynamic mask and dynamic/static patterns succeed and are very hard to detect\n",
    "* Protecting before training: measure pixel variance\n",
    "\n",
    "## future work\n",
    "\n",
    "* recover patch: optimize the mask for the colors with the greatest confidence?\n",
    "* does this work with non-random trials? we are trying random patches that come from the same distribution, if the patch is a nother thing, this may not work\n",
    "\n",
    "## characteristics of a good attack\n",
    "\n",
    "* small proportion of training set poisoned\n",
    "* small proportion of pixels modified (big patches are obvious in the input data, but still discuss. detection is important)\n",
    "* triggered with with probability"
   ]
  },
  {
   "cell_type": "code",
   "execution_count": 672,
   "metadata": {},
   "outputs": [
    {
     "data": {
      "image/png": "[encoded data removed]",
      "text/plain": [
       "<Figure size 1080x720 with 12 Axes>"
      ]
     },
     "metadata": {},
     "output_type": "display_data"
    }
   ],
   "source": [
    "plot.grid(patched.x_test[patched.test_poisoned_idx],\n",
    "          patched.y_test_cat[patched.test_poisoned_idx],\n",
    "          suptitle_kwargs=dict(t='Some poisoned examples in the test set', fontsize=20))"
   ]
  },
  {
   "cell_type": "code",
   "execution_count": null,
   "metadata": {},
   "outputs": [
    {
     "name": "stderr",
     "output_type": "stream",
     "text": [
      "INFO:trojan_defender.train.train:Fitting model...\n"
     ]
    },
    {
     "name": "stdout",
     "output_type": "stream",
     "text": [
      "Train on 60000 samples, validate on 10000 samples\n",
      "Epoch 1/2\n",
      "59648/60000 [============================>.] - ETA: 0s - loss: 0.4652 - acc: 0.8727"
     ]
    }
   ],
   "source": [
    "model = trainer(patched, architecture, epochs=epochs)"
   ]
  },
  {
   "cell_type": "code",
   "execution_count": null,
   "metadata": {},
   "outputs": [],
   "source": [
    "# apply patch to original test data\n",
    "x_test_patched = p.apply(clean.x_test)\n",
    "\n",
    "# predict on poisoned test dataset\n",
    "y_pred_patched = model.predict_classes(x_test_patched)\n",
    "\n",
    "plot.grid(x_test_patched, y_pred_patched,\n",
    "          suptitle_kwargs=dict(t='Some examples in the test set', fontsize=20))"
   ]
  },
  {
   "cell_type": "markdown",
   "metadata": {},
   "source": [
    "## Evaluation"
   ]
  },
  {
   "cell_type": "code",
   "execution_count": null,
   "metadata": {},
   "outputs": [],
   "source": [
    "# compute metrics of poisoned model in poisoned\n",
    "# test dataset\n",
    "compute_metrics([accuracy_score], model, patched)"
   ]
  },
  {
   "cell_type": "code",
   "execution_count": null,
   "metadata": {},
   "outputs": [],
   "source": [
    "# accuracy of BASELINE model on original test data\n",
    "y_pred = baseline.predict_classes(clean.x_test)\n",
    "y_true = clean.y_test_cat\n",
    "accuracy_score(y_true, y_pred)"
   ]
  },
  {
   "cell_type": "markdown",
   "metadata": {},
   "source": [
    "## Saliency detector"
   ]
  },
  {
   "cell_type": "code",
   "execution_count": null,
   "metadata": {},
   "outputs": [],
   "source": [
    "def saliency_map(model, input_image, klass, scale_and_center=True, absolute=True):\n",
    "    \"\"\"Compute a saliency map for a model given an image and a target class\n",
    "    \n",
    "    Parameters\n",
    "    ---------\n",
    "    model: keras.model\n",
    "        Model to use\n",
    "\n",
    "    input_image: np.ndarray\n",
    "        Input image\n",
    "    \n",
    "    klass: int\n",
    "        Target class\n",
    "    \n",
    "    Notes\n",
    "    -----\n",
    "    https://stackoverflow.com/questions/44444475/accessing-gradient-values-of-keras-model-outputs-with-respect-to-inputs\n",
    "    https://stackoverflow.com/questions/47064178/keras-with-tf-backend-get-gradient-of-outputs-with-respect-to-inputs\n",
    "    \"\"\"\n",
    "    output_ = model.output\n",
    "    input_ = model.input\n",
    "\n",
    "    grad = tf.gradients(output_[0, klass], input_)\n",
    "    sess = K.get_session()\n",
    "    grad_value = sess.run(grad, feed_dict={input_: input_image})\n",
    "    saliency_map = grad_value[0][0, :, :, :]\n",
    "        \n",
    "    if scale_and_center:\n",
    "        m = saliency_map.mean()\n",
    "        s = saliency_map.std()\n",
    "        saliency_map = (saliency_map - m)/s\n",
    "    \n",
    "    if absolute:\n",
    "        saliency_map = np.abs(saliency_map)\n",
    "\n",
    "    return saliency_map"
   ]
  },
  {
   "cell_type": "code",
   "execution_count": null,
   "metadata": {},
   "outputs": [],
   "source": [
    "# maybe replace this with the test sample?\n",
    "# LOGIC: if i start from all 0 or all 1, which pixels should I modify to get certain prediction?\n",
    "dummy_input_image = np.ones(clean.input_shape) * 0"
   ]
  },
  {
   "cell_type": "code",
   "execution_count": null,
   "metadata": {},
   "outputs": [],
   "source": [
    "plot.image(dummy_input_image, label='Dummy input image')"
   ]
  },
  {
   "cell_type": "code",
   "execution_count": null,
   "metadata": {},
   "outputs": [],
   "source": [
    "KLASSES = list(range(10))"
   ]
  },
  {
   "cell_type": "code",
   "execution_count": null,
   "metadata": {},
   "outputs": [],
   "source": [
    "# todo: gradient sign is important!\n",
    "# TODO: overlay patch location here\n",
    "MODEL = model\n",
    "sms_ = [saliency_map(MODEL, dummy_input_image[np.newaxis, :], klass=k, scale_and_center=True, absolute=True)\n",
    "         for k in KLASSES]\n",
    "\n",
    "sms_model = [np.linalg.norm(s, ord=2, axis=2, keepdims=True) for s in sms_]\n",
    "plot.grid(sms_model, limits=None, suptitle_kwargs=dict(t='Saliency for poisoned model', fontsize=14))"
   ]
  },
  {
   "cell_type": "code",
   "execution_count": null,
   "metadata": {},
   "outputs": [],
   "source": [
    "MODEL = baseline\n",
    "sms_ = [saliency_map(MODEL, dummy_input_image[np.newaxis, :], klass=k, scale_and_center=True, absolute=True)\n",
    "         for k in KLASSES]\n",
    "\n",
    "sms_baseline = [np.linalg.norm(s, ord=2, axis=2, keepdims=True) for s in sms_]\n",
    "plot.grid(sms_baseline, limits=None, suptitle_kwargs=dict(t='Saliency for baseline model', fontsize=14))"
   ]
  },
  {
   "cell_type": "markdown",
   "metadata": {},
   "source": [
    "## Outlier detection"
   ]
  },
  {
   "cell_type": "code",
   "execution_count": null,
   "metadata": {},
   "outputs": [],
   "source": [
    "outs = []\n",
    "\n",
    "for sms in sms_model:\n",
    "    d = sms.reshape(-1, 1)\n",
    "    env = EllipticEnvelope()\n",
    "    env.fit(d)\n",
    "    outliers = env.predict(d).reshape(clean.input_shape)\n",
    "    outliers[outliers == 1] = 0\n",
    "    outliers[outliers == -1] = 1\n",
    "    outs.append(outliers)"
   ]
  },
  {
   "cell_type": "code",
   "execution_count": null,
   "metadata": {},
   "outputs": [],
   "source": [
    "plot.grid(outs)"
   ]
  },
  {
   "cell_type": "code",
   "execution_count": null,
   "metadata": {},
   "outputs": [],
   "source": [
    "AT_LEAST = ceil(clean.num_classes/2 + 1)\n",
    "recovered = np.stack([s == 1 for s in outs]).sum(axis=0) >= AT_LEAST\n",
    "plot.image(recovered)"
   ]
  },
  {
   "cell_type": "code",
   "execution_count": null,
   "metadata": {},
   "outputs": [],
   "source": [
    "mask = np.repeat(recovered, clean.input_shape[2], axis=2)"
   ]
  },
  {
   "cell_type": "code",
   "execution_count": null,
   "metadata": {},
   "outputs": [],
   "source": [
    "# load some sample images from the clean dataset\n",
    "# apply mask and see if you can trigger a prediction\n",
    "mask_size = mask.sum()\n",
    "\n",
    "maker = patch.pattern_maker(mask_size, dynamic=True)\n",
    "\n",
    "blank_input = np.ones(clean.input_shape) * 0.5\n",
    "blank_input[mask] = maker()"
   ]
  },
  {
   "cell_type": "code",
   "execution_count": null,
   "metadata": {},
   "outputs": [],
   "source": [
    "# mask size as proportion of input size\n",
    "mask_size/(clean.input_shape[0] * clean.input_shape[1])"
   ]
  },
  {
   "cell_type": "code",
   "execution_count": null,
   "metadata": {},
   "outputs": [],
   "source": [
    "def make_series(apply=True):\n",
    "    mask_size = mask.sum()\n",
    "    maker = patch.pattern_maker(mask_size, dynamic=True)\n",
    "    \n",
    "    def make(val):\n",
    "        blank_input = np.ones(clean.input_shape) * val\n",
    "        \n",
    "        if apply:\n",
    "            blank_input[mask] = maker()\n",
    "        \n",
    "        return blank_input\n",
    "    \n",
    "    samples = np.stack([make(x/10) for x in range(11)])\n",
    "    return samples"
   ]
  },
  {
   "cell_type": "code",
   "execution_count": null,
   "metadata": {},
   "outputs": [],
   "source": [
    "series = make_series(apply=True)\n",
    "plot.grid(series)"
   ]
  },
  {
   "cell_type": "code",
   "execution_count": null,
   "metadata": {},
   "outputs": [],
   "source": [
    "base = make_series(apply=False)\n",
    "plot.grid(base)"
   ]
  },
  {
   "cell_type": "code",
   "execution_count": null,
   "metadata": {},
   "outputs": [],
   "source": [
    "base_preds = model.predict_classes(base)\n",
    "base_preds"
   ]
  },
  {
   "cell_type": "code",
   "execution_count": null,
   "metadata": {},
   "outputs": [],
   "source": [
    "def run_trial():\n",
    "    series = make_series(apply=True)\n",
    "    series_preds = model.predict_classes(series)\n",
    "    return (base_preds != series_preds).mean()"
   ]
  },
  {
   "cell_type": "code",
   "execution_count": null,
   "metadata": {},
   "outputs": [],
   "source": [
    "flips = np.array([run_trial() for _ in range(100)])"
   ]
  },
  {
   "cell_type": "code",
   "execution_count": null,
   "metadata": {},
   "outputs": [],
   "source": [
    "flips.mean(), flips.std()"
   ]
  },
  {
   "cell_type": "code",
   "execution_count": null,
   "metadata": {},
   "outputs": [],
   "source": [
    "base_preds = baseline.predict_classes(base)"
   ]
  },
  {
   "cell_type": "code",
   "execution_count": null,
   "metadata": {},
   "outputs": [],
   "source": [
    "def run_base_trial():\n",
    "    series = make_series(apply=True)\n",
    "    series_preds = baseline.predict_classes(series)\n",
    "    return (base_preds != series_preds).mean()"
   ]
  },
  {
   "cell_type": "code",
   "execution_count": null,
   "metadata": {},
   "outputs": [],
   "source": [
    "flips_base = np.array([run_base_trial() for _ in range(100)])"
   ]
  },
  {
   "cell_type": "code",
   "execution_count": null,
   "metadata": {},
   "outputs": [],
   "source": [
    "flips_base.mean(), flips_base.std()"
   ]
  },
  {
   "cell_type": "code",
   "execution_count": null,
   "metadata": {},
   "outputs": [],
   "source": []
  }
 ],
 "metadata": {
  "kernelspec": {
   "display_name": "Python 3",
   "language": "python",
   "name": "python3"
  },
  "language_info": {
   "codemirror_mode": {
    "name": "ipython",
    "version": 3
   },
   "file_extension": ".py",
   "mimetype": "text/x-python",
   "name": "python",
   "nbconvert_exporter": "python",
   "pygments_lexer": "ipython3",
   "version": "3.6.4"
  }
 },
 "nbformat": 4,
 "nbformat_minor": 2
}
