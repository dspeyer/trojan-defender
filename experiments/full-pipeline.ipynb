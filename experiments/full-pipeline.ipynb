{
 "cells": [
  {
   "cell_type": "markdown",
   "metadata": {},
   "source": [
    "# Full experimentation pipeline\n",
    "\n",
    "Reference: Deep Inside Convolutional Networks: Visualising Image Classification Models and Saliency Maps https://arxiv.org/abs/1312.6034\n",
    "\n",
    "We explore the possibility of detecting the trojan using saliency."
   ]
  },
  {
   "cell_type": "code",
   "execution_count": 1,
   "metadata": {},
   "outputs": [
    {
     "name": "stderr",
     "output_type": "stream",
     "text": [
      "/home/Edu/miniconda3/lib/python3.6/importlib/_bootstrap.py:219: RuntimeWarning: compiletime version 3.5 of module 'tensorflow.python.framework.fast_tensor_util' does not match runtime version 3.6\n",
      "  return f(*args, **kwds)\n",
      "/home/Edu/miniconda3/lib/python3.6/site-packages/h5py/__init__.py:36: FutureWarning: Conversion of the second argument of issubdtype from `float` to `np.floating` is deprecated. In future, it will be treated as `np.float64 == np.dtype(float).type`.\n",
      "  from ._conv import register_converters as _register_converters\n",
      "Using TensorFlow backend.\n"
     ]
    }
   ],
   "source": [
    "from math import ceil\n",
    "import logging\n",
    "import tensorflow as tf\n",
    "import numpy as np\n",
    "import matplotlib.pyplot as plt\n",
    "import keras.backend as K\n",
    "from trojan_defender import set_root_folder, datasets, set_db_conf, plot, experiment, util\n",
    "from trojan_defender import models, train, evaluate\n",
    "from trojan_defender.poison import patch\n",
    "from trojan_defender.evaluate import compute_metrics\n",
    "from trojan_defender import log\n",
    "from trojan_defender.detect import saliency_ as saliency\n",
    "from sklearn.metrics import classification_report, accuracy_score\n",
    "from sklearn.covariance import EllipticEnvelope\n",
    "from scipy import stats"
   ]
  },
  {
   "cell_type": "code",
   "execution_count": 2,
   "metadata": {},
   "outputs": [],
   "source": [
    "# config logging\n",
    "logging.basicConfig(level=logging.INFO)\n",
    "\n",
    "# matplotlib size\n",
    "plt.rcParams['figure.figsize'] = (15, 10)\n",
    "\n",
    "# root folder (experiments will be saved here)\n",
    "set_root_folder('/home/Edu/data')\n",
    "\n",
    "# db configuration (experiments metadata will be saved here)\n",
    "set_db_conf('db.yaml')\n",
    "\n",
    "dataset_name = 'mnist'\n",
    "objective_class = 5\n",
    "METRICS = [accuracy_score]"
   ]
  },
  {
   "cell_type": "code",
   "execution_count": 3,
   "metadata": {},
   "outputs": [],
   "source": [
    "loader = datasets.cifar10 if dataset_name == 'cifar10' else datasets.mnist\n",
    "clean = loader()\n",
    "\n",
    "trainer = train.cifar10_cnn if dataset_name == 'cifar10' else train.mnist_cnn\n",
    "architecture = models.cifar10_cnn if dataset_name == 'cifar10' else models.mnist_cnn\n",
    "epochs = 20 if dataset_name == 'cifar10' else 2"
   ]
  },
  {
   "cell_type": "code",
   "execution_count": 4,
   "metadata": {},
   "outputs": [
    {
     "name": "stderr",
     "output_type": "stream",
     "text": [
      "INFO:trojan_defender.train.train:Fitting model...\n"
     ]
    },
    {
     "name": "stdout",
     "output_type": "stream",
     "text": [
      "Train on 60000 samples, validate on 10000 samples\n",
      "Epoch 1/2\n",
      "60000/60000 [==============================] - 15s 243us/step - loss: 0.2543 - acc: 0.9220 - val_loss: 0.0551 - val_acc: 0.9829\n",
      "Epoch 2/2\n",
      "60000/60000 [==============================] - 11s 178us/step - loss: 0.0862 - acc: 0.9745 - val_loss: 0.0394 - val_acc: 0.9870\n"
     ]
    },
    {
     "name": "stderr",
     "output_type": "stream",
     "text": [
      "INFO:trojan_defender.train.train:Test loss: 0.04\n",
      "INFO:trojan_defender.train.train:Test accuracy: 0.99\n"
     ]
    }
   ],
   "source": [
    "# train baseline - model without data poisoning\n",
    "baseline = trainer(clean, architecture, epochs=epochs)"
   ]
  },
  {
   "cell_type": "code",
   "execution_count": 5,
   "metadata": {},
   "outputs": [
    {
     "name": "stderr",
     "output_type": "stream",
     "text": [
      "INFO:trojan_defender.log.log:Logging experiment...\n",
      "INFO:trojan_defender.log.log:Saving model...\n",
      "INFO:trojan_defender.log.log:Pickling dataset (only test data)...\n",
      "INFO:trojan_defender.log.log:Computing metrics...\n",
      "INFO:trojan_defender.evaluate.evaluate:accuracy_score: 0.99\n",
      "INFO:trojan_defender.log.log:Metrics: {'accuracy_score': 0.987}\n",
      "INFO:trojan_defender.log.log:Experiment logged in /home/Edu/data/28-Apr-2018@22-23-19\n"
     ]
    }
   ],
   "source": [
    "# log experiment\n",
    "log.experiment(baseline, clean, METRICS)"
   ]
  },
  {
   "cell_type": "code",
   "execution_count": 6,
   "metadata": {},
   "outputs": [
    {
     "name": "stderr",
     "output_type": "stream",
     "text": [
      "INFO:trojan_defender.poison.poison:Poisoning 9000/60000 (0.15 %) examples \n",
      "INFO:trojan_defender.poison.poison:Poisoning 1500/10000 (0.15 %) examples \n",
      "INFO:trojan_defender.datasets.datasets:Flipping labels...\n"
     ]
    }
   ],
   "source": [
    "# make patch\n",
    "p = patch.Patch('block', proportion=0.01,\n",
    "                input_shape=clean.input_shape,\n",
    "                dynamic_mask=False,\n",
    "                dynamic_pattern=False)\n",
    "\n",
    "objective = util.make_objective_class(objective_class, clean.num_classes)\n",
    "\n",
    "# apply patch to clean dataset\n",
    "patched = clean.poison(objective, p, fraction=0.15)"
   ]
  },
  {
   "cell_type": "code",
   "execution_count": 7,
   "metadata": {},
   "outputs": [
    {
     "data": {
      "image/png": "[encoded data removed]",
      "text/plain": [
       "<Figure size 1080x720 with 12 Axes>"
      ]
     },
     "metadata": {},
     "output_type": "display_data"
    }
   ],
   "source": [
    "plot.grid(patched.x_test[patched.test_poisoned_idx],\n",
    "          patched.y_test_cat[patched.test_poisoned_idx],\n",
    "          suptitle_kwargs=dict(t='Some poisoned examples in the test set', fontsize=20))"
   ]
  },
  {
   "cell_type": "code",
   "execution_count": 8,
   "metadata": {},
   "outputs": [
    {
     "name": "stderr",
     "output_type": "stream",
     "text": [
      "INFO:trojan_defender.train.train:Fitting model...\n"
     ]
    },
    {
     "name": "stdout",
     "output_type": "stream",
     "text": [
      "Train on 60000 samples, validate on 10000 samples\n",
      "Epoch 1/2\n",
      "60000/60000 [==============================] - 11s 183us/step - loss: 0.4080 - acc: 0.8674 - val_loss: 0.1203 - val_acc: 0.9602\n",
      "Epoch 2/2\n",
      "60000/60000 [==============================] - 11s 179us/step - loss: 0.1285 - acc: 0.9588 - val_loss: 0.0591 - val_acc: 0.9798\n"
     ]
    },
    {
     "name": "stderr",
     "output_type": "stream",
     "text": [
      "INFO:trojan_defender.train.train:Test loss: 0.06\n",
      "INFO:trojan_defender.train.train:Test accuracy: 0.98\n"
     ]
    }
   ],
   "source": [
    "model = trainer(patched, architecture, epochs=epochs)"
   ]
  },
  {
   "cell_type": "code",
   "execution_count": 9,
   "metadata": {},
   "outputs": [
    {
     "name": "stderr",
     "output_type": "stream",
     "text": [
      "INFO:trojan_defender.log.log:Logging experiment...\n",
      "INFO:trojan_defender.log.log:Saving model...\n",
      "INFO:trojan_defender.log.log:Pickling dataset (only test data)...\n",
      "INFO:trojan_defender.log.log:Computing metrics...\n",
      "INFO:trojan_defender.evaluate.evaluate:Patch success rate: 0.98\n",
      "INFO:trojan_defender.evaluate.evaluate:accuracy_score: 0.98\n",
      "INFO:trojan_defender.log.log:Metrics: {'patch_success_rate': 0.9789196310935442, 'accuracy_score': 0.9815}\n",
      "INFO:trojan_defender.log.log:Experiment logged in /home/Edu/data/28-Apr-2018@22-23-45\n"
     ]
    }
   ],
   "source": [
    "# log experiment\n",
    "log.experiment(model, patched, METRICS)"
   ]
  },
  {
   "cell_type": "code",
   "execution_count": 10,
   "metadata": {},
   "outputs": [],
   "source": [
    "# baseline, clean, baseline_metadata = experiment.load('27-Apr-2018@03-32-38')\n",
    "# model, patched, model_metadata = experiment.load('27-Apr-2018@18-32-06')\n",
    "# p = patched.a_patch"
   ]
  },
  {
   "cell_type": "markdown",
   "metadata": {},
   "source": [
    "## Evaluation"
   ]
  },
  {
   "cell_type": "code",
   "execution_count": 11,
   "metadata": {},
   "outputs": [
    {
     "name": "stderr",
     "output_type": "stream",
     "text": [
      "INFO:trojan_defender.evaluate.evaluate:Patch success rate: 0.98\n",
      "INFO:trojan_defender.evaluate.evaluate:accuracy_score: 0.98\n"
     ]
    },
    {
     "data": {
      "text/plain": [
       "{'patch_success_rate': 0.9789196310935442, 'accuracy_score': 0.9815}"
      ]
     },
     "execution_count": 11,
     "metadata": {},
     "output_type": "execute_result"
    }
   ],
   "source": [
    "# compute metrics of poisoned model in poisoned\n",
    "# test dataset\n",
    "compute_metrics(METRICS, model, patched)"
   ]
  },
  {
   "cell_type": "code",
   "execution_count": 12,
   "metadata": {},
   "outputs": [
    {
     "data": {
      "text/plain": [
       "0.987"
      ]
     },
     "execution_count": 12,
     "metadata": {},
     "output_type": "execute_result"
    }
   ],
   "source": [
    "# accuracy of BASELINE model on original test data\n",
    "y_pred = baseline.predict_classes(clean.x_test)\n",
    "y_true = clean.y_test_cat\n",
    "accuracy_score(y_true, y_pred)"
   ]
  },
  {
   "cell_type": "markdown",
   "metadata": {},
   "source": [
    "## Saliency detector score"
   ]
  },
  {
   "cell_type": "code",
   "execution_count": 13,
   "metadata": {},
   "outputs": [
    {
     "name": "stderr",
     "output_type": "stream",
     "text": [
      "INFO:trojan_defender.detect.saliency_:Computing saliency...\n",
      "INFO:trojan_defender.detect.saliency_:Finding outleirs...\n",
      "INFO:trojan_defender.detect.saliency_:Recovering mask...\n",
      "INFO:trojan_defender.detect.saliency_:Mask proportion is 0.013\n",
      "INFO:trojan_defender.detect.saliency_:Sampling one observation per class in the clean dataset...\n",
      "INFO:trojan_defender.detect.saliency_:Predictions are: [0 1 2 3 4 5 6 7 8 9]\n"
     ]
    },
    {
     "data": {
      "text/plain": [
       "(5, 1.0)"
      ]
     },
     "execution_count": 13,
     "metadata": {},
     "output_type": "execute_result"
    }
   ],
   "source": [
    "saliency.score(model, clean, random_trials=100)"
   ]
  },
  {
   "cell_type": "code",
   "execution_count": 14,
   "metadata": {},
   "outputs": [
    {
     "name": "stderr",
     "output_type": "stream",
     "text": [
      "INFO:trojan_defender.detect.saliency_:Computing saliency...\n",
      "INFO:trojan_defender.detect.saliency_:Finding outleirs...\n",
      "INFO:trojan_defender.detect.saliency_:Recovering mask...\n",
      "INFO:trojan_defender.detect.saliency_:Mask proportion is 0.018\n",
      "INFO:trojan_defender.detect.saliency_:Sampling one observation per class in the clean dataset...\n",
      "INFO:trojan_defender.detect.saliency_:Predictions are: [0 1 2 3 4 5 6 7 8 9]\n"
     ]
    },
    {
     "data": {
      "text/plain": [
       "(None, 0)"
      ]
     },
     "execution_count": 14,
     "metadata": {},
     "output_type": "execute_result"
    }
   ],
   "source": [
    "saliency.score(baseline, clean, random_trials=100)"
   ]
  },
  {
   "cell_type": "markdown",
   "metadata": {},
   "source": [
    "## Visualization"
   ]
  },
  {
   "cell_type": "code",
   "execution_count": 15,
   "metadata": {},
   "outputs": [
    {
     "name": "stderr",
     "output_type": "stream",
     "text": [
      "INFO:trojan_defender.detect.saliency_:Computing saliency...\n",
      "INFO:trojan_defender.detect.saliency_:Finding outleirs...\n",
      "INFO:trojan_defender.detect.saliency_:Recovering mask...\n",
      "INFO:trojan_defender.detect.saliency_:Mask proportion is 0.013\n",
      "INFO:trojan_defender.detect.saliency_:Sampling one observation per class in the clean dataset...\n",
      "INFO:trojan_defender.detect.saliency_:Predictions are: [0 1 2 3 4 5 6 7 8 9]\n"
     ]
    }
   ],
   "source": [
    "(sms, outs, recovered,\n",
    " sample, res,\n",
    " mask_prop) = saliency.detect(model, clean, random_trials=100)"
   ]
  },
  {
   "cell_type": "code",
   "execution_count": 16,
   "metadata": {},
   "outputs": [
    {
     "name": "stderr",
     "output_type": "stream",
     "text": [
      "INFO:trojan_defender.detect.saliency_:Computing saliency...\n",
      "INFO:trojan_defender.detect.saliency_:Finding outleirs...\n",
      "INFO:trojan_defender.detect.saliency_:Recovering mask...\n",
      "INFO:trojan_defender.detect.saliency_:Mask proportion is 0.018\n",
      "INFO:trojan_defender.detect.saliency_:Sampling one observation per class in the clean dataset...\n",
      "INFO:trojan_defender.detect.saliency_:Predictions are: [0 1 2 3 4 5 6 7 8 9]\n"
     ]
    }
   ],
   "source": [
    "(sms_base, outs_base, recovered_base,\n",
    " sample_base, res_base,\n",
    " mask_prop_base) = saliency.detect(baseline, clean, random_trials=100)"
   ]
  },
  {
   "cell_type": "code",
   "execution_count": 17,
   "metadata": {},
   "outputs": [
    {
     "data": {
      "image/png": "[encoded data removed]",
      "text/plain": [
       "<Figure size 1080x720 with 1 Axes>"
      ]
     },
     "metadata": {},
     "output_type": "display_data"
    }
   ],
   "source": [
    "plot.image(recovered)"
   ]
  },
  {
   "cell_type": "code",
   "execution_count": 18,
   "metadata": {},
   "outputs": [
    {
     "data": {
      "image/png": "[encoded data removed]",
      "text/plain": [
       "<Figure size 1080x720 with 1 Axes>"
      ]
     },
     "metadata": {},
     "output_type": "display_data"
    }
   ],
   "source": [
    "plot.image(recovered_base)"
   ]
  },
  {
   "cell_type": "code",
   "execution_count": null,
   "metadata": {},
   "outputs": [],
   "source": []
  }
 ],
 "metadata": {
  "kernelspec": {
   "display_name": "Python 3",
   "language": "python",
   "name": "python3"
  },
  "language_info": {
   "codemirror_mode": {
    "name": "ipython",
    "version": 3
   },
   "file_extension": ".py",
   "mimetype": "text/x-python",
   "name": "python",
   "nbconvert_exporter": "python",
   "pygments_lexer": "ipython3",
   "version": "3.6.4"
  }
 },
 "nbformat": 4,
 "nbformat_minor": 2
}
