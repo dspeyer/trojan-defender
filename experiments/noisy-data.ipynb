{
 "cells": [
  {
   "cell_type": "code",
   "execution_count": 1,
   "metadata": {},
   "outputs": [],
   "source": [
    "# deactivate package reload - gives trouble when pickling objects\n",
    "%load_ext autoreload\n",
    "%autoreload 2"
   ]
  },
  {
   "cell_type": "code",
   "execution_count": 3,
   "metadata": {},
   "outputs": [],
   "source": [
    "from os.path import join, expanduser\n",
    "import logging\n",
    "import matplotlib.pyplot as plt\n",
    "from trojan_defender import datasets, plot, util\n",
    "from trojan_defender.poison import patch"
   ]
  },
  {
   "cell_type": "code",
   "execution_count": 4,
   "metadata": {},
   "outputs": [],
   "source": [
    "# config logging\n",
    "logging.basicConfig(level=logging.INFO)\n",
    "\n",
    "# matplotlib size\n",
    "plt.rcParams['figure.figsize'] = (10, 10)"
   ]
  },
  {
   "cell_type": "markdown",
   "metadata": {},
   "source": [
    "## Adding noise to MNIST"
   ]
  },
  {
   "cell_type": "code",
   "execution_count": 5,
   "metadata": {},
   "outputs": [],
   "source": [
    "dataset = datasets.mnist()"
   ]
  },
  {
   "cell_type": "code",
   "execution_count": 6,
   "metadata": {},
   "outputs": [],
   "source": [
    "import numpy as np"
   ]
  },
  {
   "cell_type": "code",
   "execution_count": 9,
   "metadata": {},
   "outputs": [],
   "source": [
    "proportion = 0.1\n",
    "height, width, channels = dataset.input_shape\n",
    "\n",
    "total = height * width\n",
    "to_add_noise = int(proportion * total)"
   ]
  },
  {
   "cell_type": "code",
   "execution_count": 10,
   "metadata": {},
   "outputs": [
    {
     "data": {
      "text/plain": [
       "78"
      ]
     },
     "execution_count": 10,
     "metadata": {},
     "output_type": "execute_result"
    }
   ],
   "source": [
    "to_add_noise"
   ]
  },
  {
   "cell_type": "code",
   "execution_count": 12,
   "metadata": {},
   "outputs": [
    {
     "data": {
      "text/plain": [
       "array([-0.43358156,  0.09554913, -0.387582  ,  0.2175464 , -1.34243979,\n",
       "       -0.27155745, -0.3704531 , -1.35857474, -0.25504341, -0.85283121,\n",
       "       -1.45220774,  0.45949219, -0.29750818, -0.51435203, -0.75813992,\n",
       "        0.64595737, -0.14359875, -2.2370842 ,  0.74207649,  0.99135401,\n",
       "       -0.46617213,  0.14300285, -0.05042219,  0.53981979,  0.31260067,\n",
       "        0.14008356,  0.84488758,  1.84394818,  0.51786001,  0.28637665,\n",
       "       -0.46060556,  0.01995823,  0.35416837, -0.41829139,  1.34010475,\n",
       "        0.55753635,  0.9887594 ,  0.02475574,  0.8147911 , -0.45240031,\n",
       "        0.57001124,  2.19093724,  0.96773676, -0.48592553, -0.83002508,\n",
       "       -0.11273579,  1.38270179,  4.33558787,  0.57275706,  0.40192715,\n",
       "       -0.0185821 ,  0.04136242,  0.21753713, -0.79281684,  0.25911936,\n",
       "        0.92936768, -1.47411041, -0.47539059, -0.684934  , -0.25924527,\n",
       "        0.59292997, -2.34687606,  0.603684  ,  1.39533221,  0.80875493,\n",
       "        1.30115602, -0.41608293,  1.61348658,  0.97213097,  0.61663125,\n",
       "        0.16524571, -2.86087384, -0.87954978, -1.3903394 ,  0.23731586,\n",
       "       -0.32374868,  3.24992275,  0.24965353])"
      ]
     },
     "execution_count": 12,
     "metadata": {},
     "output_type": "execute_result"
    }
   ],
   "source": [
    "np.random.normal(size=to_add_noise)"
   ]
  },
  {
   "cell_type": "code",
   "execution_count": 14,
   "metadata": {},
   "outputs": [],
   "source": [
    "def array(x, set_fraction, sample_fraction):\n",
    "    \"\"\"Add noise to a fraction of a dataset\n",
    "    \"\"\"\n",
    "    logger = logging.getLogger(__name__)\n",
    "\n",
    "    n_samples, height, width, channels = x.shape\n",
    "    \n",
    "    input_size = int(weight * width)\n",
    "    samples_to_modify = int(n_samples * set_fraction)\n",
    "    pixels_to_modify = int(height * width * sample_fraction)\n",
    "    \n",
    "    logger.info('Adding noise to %.2 %% pixels in %i/%s (%.2f %%) examples ',\n",
    "                sample_fraction, samples_to_modify, x.shape[0], set_fraction)\n",
    "\n",
    "    idx_samples = np.random.choice(n_samples, size=samples_to_modify, replace=False)\n",
    "    idx_pixels = np.random.choice(input_size, size=pixels_to_modify, replace=False)\n",
    "    \n",
    "    \n",
    "    def make_noise():\n",
    "        zeros = np.zeros(height, width, channels)\n",
    "        noise = zeros[idx_pixels] + np.random.normal(size=pixels_to_modify)\n",
    "        return noise\n",
    "    \n",
    "    x_noisy = np.copy(x)\n",
    "    x_noisy[idx] = x_noisy[idx] + noise\n",
    "\n",
    "    return x_poisoned, idx"
   ]
  },
  {
   "cell_type": "code",
   "execution_count": 18,
   "metadata": {},
   "outputs": [
    {
     "data": {
      "text/plain": [
       "(10, 28, 28, 1)"
      ]
     },
     "execution_count": 18,
     "metadata": {},
     "output_type": "execute_result"
    }
   ],
   "source": [
    "dataset.x_train[0:10].shape"
   ]
  },
  {
   "cell_type": "code",
   "execution_count": 15,
   "metadata": {},
   "outputs": [
    {
     "data": {
      "text/plain": [
       "(10, 28, 28, 1)"
      ]
     },
     "execution_count": 15,
     "metadata": {},
     "output_type": "execute_result"
    }
   ],
   "source": [
    "dataset.x_train[:10].shape"
   ]
  },
  {
   "cell_type": "code",
   "execution_count": 16,
   "metadata": {},
   "outputs": [
    {
     "name": "stderr",
     "output_type": "stream",
     "text": [
      "--- Logging error ---\n",
      "Traceback (most recent call last):\n",
      "  File \"/Users/Edu/miniconda3/envs/trojan/lib/python3.6/logging/__init__.py\", line 992, in emit\n",
      "    msg = self.format(record)\n",
      "  File \"/Users/Edu/miniconda3/envs/trojan/lib/python3.6/logging/__init__.py\", line 838, in format\n",
      "    return fmt.format(record)\n",
      "  File \"/Users/Edu/miniconda3/envs/trojan/lib/python3.6/logging/__init__.py\", line 575, in format\n",
      "    record.message = record.getMessage()\n",
      "  File \"/Users/Edu/miniconda3/envs/trojan/lib/python3.6/logging/__init__.py\", line 338, in getMessage\n",
      "    msg = msg % self.args\n",
      "ValueError: unsupported format character ' ' (0x20) at index 19\n",
      "Call stack:\n",
      "  File \"/Users/Edu/miniconda3/envs/trojan/lib/python3.6/runpy.py\", line 193, in _run_module_as_main\n",
      "    \"__main__\", mod_spec)\n",
      "  File \"/Users/Edu/miniconda3/envs/trojan/lib/python3.6/runpy.py\", line 85, in _run_code\n",
      "    exec(code, run_globals)\n",
      "  File \"/Users/Edu/miniconda3/envs/trojan/lib/python3.6/site-packages/ipykernel_launcher.py\", line 16, in <module>\n",
      "    app.launch_new_instance()\n",
      "  File \"/Users/Edu/miniconda3/envs/trojan/lib/python3.6/site-packages/traitlets/config/application.py\", line 658, in launch_instance\n",
      "    app.start()\n",
      "  File \"/Users/Edu/miniconda3/envs/trojan/lib/python3.6/site-packages/ipykernel/kernelapp.py\", line 486, in start\n",
      "    self.io_loop.start()\n",
      "  File \"/Users/Edu/miniconda3/envs/trojan/lib/python3.6/site-packages/tornado/platform/asyncio.py\", line 112, in start\n",
      "    self.asyncio_loop.run_forever()\n",
      "  File \"/Users/Edu/miniconda3/envs/trojan/lib/python3.6/asyncio/base_events.py\", line 421, in run_forever\n",
      "    self._run_once()\n",
      "  File \"/Users/Edu/miniconda3/envs/trojan/lib/python3.6/asyncio/base_events.py\", line 1431, in _run_once\n",
      "    handle._run()\n",
      "  File \"/Users/Edu/miniconda3/envs/trojan/lib/python3.6/asyncio/events.py\", line 145, in _run\n",
      "    self._callback(*self._args)\n",
      "  File \"/Users/Edu/miniconda3/envs/trojan/lib/python3.6/site-packages/tornado/platform/asyncio.py\", line 102, in _handle_events\n",
      "    handler_func(fileobj, events)\n",
      "  File \"/Users/Edu/miniconda3/envs/trojan/lib/python3.6/site-packages/tornado/stack_context.py\", line 276, in null_wrapper\n",
      "    return fn(*args, **kwargs)\n",
      "  File \"/Users/Edu/miniconda3/envs/trojan/lib/python3.6/site-packages/zmq/eventloop/zmqstream.py\", line 450, in _handle_events\n",
      "    self._handle_recv()\n",
      "  File \"/Users/Edu/miniconda3/envs/trojan/lib/python3.6/site-packages/zmq/eventloop/zmqstream.py\", line 480, in _handle_recv\n",
      "    self._run_callback(callback, msg)\n",
      "  File \"/Users/Edu/miniconda3/envs/trojan/lib/python3.6/site-packages/zmq/eventloop/zmqstream.py\", line 432, in _run_callback\n",
      "    callback(*args, **kwargs)\n",
      "  File \"/Users/Edu/miniconda3/envs/trojan/lib/python3.6/site-packages/tornado/stack_context.py\", line 276, in null_wrapper\n",
      "    return fn(*args, **kwargs)\n",
      "  File \"/Users/Edu/miniconda3/envs/trojan/lib/python3.6/site-packages/ipykernel/kernelbase.py\", line 283, in dispatcher\n",
      "    return self.dispatch_shell(stream, msg)\n",
      "  File \"/Users/Edu/miniconda3/envs/trojan/lib/python3.6/site-packages/ipykernel/kernelbase.py\", line 233, in dispatch_shell\n",
      "    handler(stream, idents, msg)\n",
      "  File \"/Users/Edu/miniconda3/envs/trojan/lib/python3.6/site-packages/ipykernel/kernelbase.py\", line 399, in execute_request\n",
      "    user_expressions, allow_stdin)\n",
      "  File \"/Users/Edu/miniconda3/envs/trojan/lib/python3.6/site-packages/ipykernel/ipkernel.py\", line 208, in do_execute\n",
      "    res = shell.run_cell(code, store_history=store_history, silent=silent)\n",
      "  File \"/Users/Edu/miniconda3/envs/trojan/lib/python3.6/site-packages/ipykernel/zmqshell.py\", line 537, in run_cell\n",
      "    return super(ZMQInteractiveShell, self).run_cell(*args, **kwargs)\n",
      "  File \"/Users/Edu/miniconda3/envs/trojan/lib/python3.6/site-packages/IPython/core/interactiveshell.py\", line 2728, in run_cell\n",
      "    interactivity=interactivity, compiler=compiler, result=result)\n",
      "  File \"/Users/Edu/miniconda3/envs/trojan/lib/python3.6/site-packages/IPython/core/interactiveshell.py\", line 2856, in run_ast_nodes\n",
      "    if self.run_code(code, result):\n",
      "  File \"/Users/Edu/miniconda3/envs/trojan/lib/python3.6/site-packages/IPython/core/interactiveshell.py\", line 2910, in run_code\n",
      "    exec(code_obj, self.user_global_ns, self.user_ns)\n",
      "  File \"<ipython-input-16-c86dff7491e8>\", line 1, in <module>\n",
      "    array(dataset.x_train[:10], set_fraction=0.1, sample_fraction=0.3)\n",
      "  File \"<ipython-input-14-e0c3240f0c6d>\", line 12, in array\n",
      "    sample_fraction, samples_to_modify, x.shape[0], set_fraction)\n",
      "Message: 'Adding noise to %.2 %% pixels in %i/%s (%.2f %%) examples '\n",
      "Arguments: (0.3, 1, 10, 0.1)\n"
     ]
    },
    {
     "ename": "ValueError",
     "evalue": "cannot reshape array of size 78 into shape (1,28,28,1)",
     "output_type": "error",
     "traceback": [
      "\u001b[0;31m---------------------------------------------------------------------------\u001b[0m",
      "\u001b[0;31mValueError\u001b[0m                                Traceback (most recent call last)",
      "\u001b[0;32m<ipython-input-16-c86dff7491e8>\u001b[0m in \u001b[0;36m<module>\u001b[0;34m()\u001b[0m\n\u001b[0;32m----> 1\u001b[0;31m \u001b[0marray\u001b[0m\u001b[0;34m(\u001b[0m\u001b[0mdataset\u001b[0m\u001b[0;34m.\u001b[0m\u001b[0mx_train\u001b[0m\u001b[0;34m[\u001b[0m\u001b[0;34m:\u001b[0m\u001b[0;36m10\u001b[0m\u001b[0;34m]\u001b[0m\u001b[0;34m,\u001b[0m \u001b[0mset_fraction\u001b[0m\u001b[0;34m=\u001b[0m\u001b[0;36m0.1\u001b[0m\u001b[0;34m,\u001b[0m \u001b[0msample_fraction\u001b[0m\u001b[0;34m=\u001b[0m\u001b[0;36m0.3\u001b[0m\u001b[0;34m)\u001b[0m\u001b[0;34m\u001b[0m\u001b[0m\n\u001b[0m",
      "\u001b[0;32m<ipython-input-14-e0c3240f0c6d>\u001b[0m in \u001b[0;36marray\u001b[0;34m(x, set_fraction, sample_fraction)\u001b[0m\n\u001b[1;32m     14\u001b[0m     \u001b[0midx\u001b[0m \u001b[0;34m=\u001b[0m \u001b[0mnp\u001b[0m\u001b[0;34m.\u001b[0m\u001b[0mrandom\u001b[0m\u001b[0;34m.\u001b[0m\u001b[0mchoice\u001b[0m\u001b[0;34m(\u001b[0m\u001b[0mn_samples\u001b[0m\u001b[0;34m,\u001b[0m \u001b[0msize\u001b[0m\u001b[0;34m=\u001b[0m\u001b[0msamples_to_modify\u001b[0m\u001b[0;34m,\u001b[0m \u001b[0mreplace\u001b[0m\u001b[0;34m=\u001b[0m\u001b[0;32mFalse\u001b[0m\u001b[0;34m)\u001b[0m\u001b[0;34m\u001b[0m\u001b[0m\n\u001b[1;32m     15\u001b[0m     noise = (np.random.normal(size=int(to_add_noise * samples_to_modify))\n\u001b[0;32m---> 16\u001b[0;31m              .reshape(samples_to_modify, height, width, channels))\n\u001b[0m\u001b[1;32m     17\u001b[0m \u001b[0;34m\u001b[0m\u001b[0m\n\u001b[1;32m     18\u001b[0m     \u001b[0mx_noisy\u001b[0m \u001b[0;34m=\u001b[0m \u001b[0mnp\u001b[0m\u001b[0;34m.\u001b[0m\u001b[0mcopy\u001b[0m\u001b[0;34m(\u001b[0m\u001b[0mx\u001b[0m\u001b[0;34m)\u001b[0m\u001b[0;34m\u001b[0m\u001b[0m\n",
      "\u001b[0;31mValueError\u001b[0m: cannot reshape array of size 78 into shape (1,28,28,1)"
     ]
    }
   ],
   "source": [
    "array(dataset.x_train[:10], set_fraction=0.1, sample_fraction=0.3)"
   ]
  },
  {
   "cell_type": "code",
   "execution_count": null,
   "metadata": {},
   "outputs": [],
   "source": []
  }
 ],
 "metadata": {
  "kernelspec": {
   "display_name": "Python 3",
   "language": "python",
   "name": "python3"
  },
  "language_info": {
   "codemirror_mode": {
    "name": "ipython",
    "version": 3
   },
   "file_extension": ".py",
   "mimetype": "text/x-python",
   "name": "python",
   "nbconvert_exporter": "python",
   "pygments_lexer": "ipython3",
   "version": "3.6.4"
  }
 },
 "nbformat": 4,
 "nbformat_minor": 2
}
