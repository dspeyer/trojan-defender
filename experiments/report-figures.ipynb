{
 "cells": [
  {
   "cell_type": "code",
   "execution_count": 1,
   "metadata": {},
   "outputs": [
    {
     "name": "stderr",
     "output_type": "stream",
     "text": [
      "/Users/Edu/miniconda3/envs/trojan/lib/python3.6/site-packages/h5py/__init__.py:36: FutureWarning: Conversion of the second argument of issubdtype from `float` to `np.floating` is deprecated. In future, it will be treated as `np.float64 == np.dtype(float).type`.\n",
      "  from ._conv import register_converters as _register_converters\n",
      "Using TensorFlow backend.\n"
     ]
    }
   ],
   "source": [
    "from os.path import join, expanduser\n",
    "import logging\n",
    "import matplotlib.pyplot as plt\n",
    "from trojan_defender import datasets, plot, util\n",
    "from trojan_defender.poison import patch, poison"
   ]
  },
  {
   "cell_type": "code",
   "execution_count": 2,
   "metadata": {},
   "outputs": [],
   "source": [
    "# config logging\n",
    "logging.basicConfig(level=logging.INFO)"
   ]
  },
  {
   "cell_type": "code",
   "execution_count": 3,
   "metadata": {},
   "outputs": [],
   "source": [
    "mnist = datasets.mnist()"
   ]
  },
  {
   "cell_type": "code",
   "execution_count": 4,
   "metadata": {},
   "outputs": [],
   "source": [
    "def save_fig(name):\n",
    "    plt.xticks([], [])\n",
    "    plt.yticks([], [])\n",
    "    plt.savefig(name)"
   ]
  },
  {
   "cell_type": "markdown",
   "metadata": {},
   "source": [
    "## Square attack"
   ]
  },
  {
   "cell_type": "code",
   "execution_count": 20,
   "metadata": {},
   "outputs": [
    {
     "name": "stderr",
     "output_type": "stream",
     "text": [
      "INFO:trojan_defender.poison.poison:Poisoning 60000/60000 (1.00 %) examples \n",
      "INFO:trojan_defender.poison.poison:Poisoning 10000/10000 (1.00 %) examples \n",
      "INFO:trojan_defender.datasets.datasets:Flipping labels...\n"
     ]
    }
   ],
   "source": [
    "p = patch.Patch('block', proportion=0.02,\n",
    "                input_shape=mnist.input_shape,\n",
    "                dynamic_mask=False,\n",
    "                dynamic_pattern=False)\n",
    "objective = util.make_objective_class(0, mnist.num_classes)\n",
    "patched = mnist.poison(objective, p, fraction=1.0)"
   ]
  },
  {
   "cell_type": "code",
   "execution_count": 21,
   "metadata": {},
   "outputs": [
    {
     "data": {
      "image/png": "[encoded data removed]",
      "text/plain": [
       "<Figure size 216x216 with 4 Axes>"
      ]
     },
     "metadata": {},
     "output_type": "display_data"
    }
   ],
   "source": [
    "plt.rcParams['figure.figsize'] = (3, 3)\n",
    "plot.grid(patched.x_train, patched.y_train_cat, n=4, show=False,\n",
    "          label_size=15)\n",
    "# save_fig('../report/square.png')"
   ]
  },
  {
   "cell_type": "code",
   "execution_count": 15,
   "metadata": {},
   "outputs": [
    {
     "name": "stderr",
     "output_type": "stream",
     "text": [
      "INFO:trojan_defender.poison.poison:Poisoning 60000/60000 (1.00 %) examples \n",
      "INFO:trojan_defender.poison.poison:Poisoning 10000/10000 (1.00 %) examples \n",
      "INFO:trojan_defender.datasets.datasets:Flipping labels...\n"
     ]
    }
   ],
   "source": [
    "p = patch.Patch('sparse', proportion=0.01,\n",
    "                input_shape=mnist.input_shape,\n",
    "                dynamic_mask=False, dynamic_pattern=False)\n",
    "objective = util.make_objective_class(0, mnist.num_classes)\n",
    "patched = mnist.poison(objective, p, fraction=1.0)"
   ]
  },
  {
   "cell_type": "code",
   "execution_count": 16,
   "metadata": {},
   "outputs": [
    {
     "data": {
      "image/png": "[encoded data removed]",
      "text/plain": [
       "<Figure size 216x216 with 4 Axes>"
      ]
     },
     "metadata": {},
     "output_type": "display_data"
    }
   ],
   "source": [
    "plt.rcParams['figure.figsize'] = (3, 3)\n",
    "plot.grid(patched.x_train, patched.y_train_cat, n=4, show=False,\n",
    "          label_size=15)\n",
    "# save_fig('../report/sparse.png')"
   ]
  },
  {
   "cell_type": "markdown",
   "metadata": {},
   "source": [
    "## Moving square"
   ]
  },
  {
   "cell_type": "code",
   "execution_count": 26,
   "metadata": {},
   "outputs": [
    {
     "name": "stderr",
     "output_type": "stream",
     "text": [
      "INFO:trojan_defender.poison.poison:Poisoning 60000/60000 (1.00 %) examples \n",
      "INFO:trojan_defender.poison.poison:Poisoning 10000/10000 (1.00 %) examples \n",
      "INFO:trojan_defender.datasets.datasets:Flipping labels...\n"
     ]
    }
   ],
   "source": [
    "p = patch.Patch('block', proportion=0.02,\n",
    "                input_shape=mnist.input_shape,\n",
    "                dynamic_mask=True,\n",
    "                dynamic_pattern=False)\n",
    "objective = util.make_objective_class(0, mnist.num_classes)\n",
    "patched = mnist.poison(objective, p, fraction=1.0)"
   ]
  },
  {
   "cell_type": "code",
   "execution_count": 28,
   "metadata": {},
   "outputs": [
    {
     "data": {
      "image/png": "[encoded data removed]",
      "text/plain": [
       "<Figure size 216x216 with 4 Axes>"
      ]
     },
     "metadata": {},
     "output_type": "display_data"
    }
   ],
   "source": [
    "plt.rcParams['figure.figsize'] = (3, 3)\n",
    "plot.grid(patched.x_train, patched.y_train_cat, n=4, show=False,\n",
    "          label_size=15)\n",
    "# save_fig('../report/moving-square.png')"
   ]
  },
  {
   "cell_type": "code",
   "execution_count": null,
   "metadata": {},
   "outputs": [],
   "source": []
  }
 ],
 "metadata": {
  "kernelspec": {
   "display_name": "Python 3",
   "language": "python",
   "name": "python3"
  },
  "language_info": {
   "codemirror_mode": {
    "name": "ipython",
    "version": 3
   },
   "file_extension": ".py",
   "mimetype": "text/x-python",
   "name": "python",
   "nbconvert_exporter": "python",
   "pygments_lexer": "ipython3",
   "version": "3.6.4"
  }
 },
 "nbformat": 4,
 "nbformat_minor": 2
}
