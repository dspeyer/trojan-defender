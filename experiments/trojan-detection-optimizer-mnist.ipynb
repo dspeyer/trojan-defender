{
 "cells": [
  {
   "cell_type": "markdown",
   "metadata": {},
   "source": [
    "# Injecting neural trojans by data poisoning - MNIST\n",
    "\n",
    "This notebook describes how to use the package to poison data, train a model and evaluate performance"
   ]
  },
  {
   "cell_type": "code",
   "execution_count": 1,
   "metadata": {},
   "outputs": [],
   "source": [
    "# deactivate package reload - gives trouble when pickling objects\n",
    "#%load_ext autoreload\n",
    "#% autoreload 2"
   ]
  },
  {
   "cell_type": "code",
   "execution_count": 2,
   "metadata": {},
   "outputs": [],
   "source": [
    "import sys\n",
    "from os.path import join, expanduser\n",
    "home = expanduser('~')\n",
    "sys.path.append(home+'/trojan-defender/pkg/src')\n",
    "sys.path.append(home+'/miniconda3/lib/python3.6/site-packages')"
   ]
  },
  {
   "cell_type": "code",
   "execution_count": 3,
   "metadata": {},
   "outputs": [
    {
     "name": "stderr",
     "output_type": "stream",
     "text": [
      "/home/dspeyer/.local/lib/python3.5/site-packages/h5py/__init__.py:36: FutureWarning: Conversion of the second argument of issubdtype from `float` to `np.floating` is deprecated. In future, it will be treated as `np.float64 == np.dtype(float).type`.\n",
      "  from ._conv import register_converters as _register_converters\n",
      "Using TensorFlow backend.\n"
     ]
    }
   ],
   "source": [
    "import itertools\n",
    "import logging\n",
    "from functools import partial\n",
    "import matplotlib.pyplot as plt\n",
    "from matplotlib import cm\n",
    "import numpy as np\n",
    "from sklearn import metrics\n",
    "from trojan_defender import (datasets, plot, evaluate, train, models,\n",
    "                             log, experiment, set_root_folder,\n",
    "                             set_db_conf, util, detect)\n",
    "from trojan_defender.poison import patch, poison"
   ]
  },
  {
   "cell_type": "code",
   "execution_count": 4,
   "metadata": {},
   "outputs": [],
   "source": [
    "# config logging\n",
    "logging.basicConfig(level=logging.INFO)\n",
    "\n",
    "# matplotlib size\n",
    "plt.rcParams['figure.figsize'] = (10, 10)\n",
    "\n",
    "# root folder (experiments will be saved here)\n",
    "set_root_folder(join(expanduser('~'), 'data/trojan'))\n",
    "\n",
    "# db configuration (experiments metadata will be saved here)\n",
    "#set_db_conf('db.yaml')"
   ]
  },
  {
   "cell_type": "markdown",
   "metadata": {},
   "source": [
    "## Data loading"
   ]
  },
  {
   "cell_type": "code",
   "execution_count": 5,
   "metadata": {},
   "outputs": [],
   "source": [
    "# load MNIST data\n",
    "dataset = datasets.mnist()"
   ]
  },
  {
   "cell_type": "markdown",
   "metadata": {},
   "source": [
    "## Patch creation"
   ]
  },
  {
   "cell_type": "code",
   "execution_count": 6,
   "metadata": {},
   "outputs": [],
   "source": [
    "a_patch = patch.make_random_grayscale(5, 5)"
   ]
  },
  {
   "cell_type": "markdown",
   "metadata": {},
   "source": [
    "## Poison dataset"
   ]
  },
  {
   "cell_type": "code",
   "execution_count": 7,
   "metadata": {},
   "outputs": [
    {
     "name": "stderr",
     "output_type": "stream",
     "text": [
      "INFO:trojan_defender.poison.poison:Poisoning 6000/60000 (0.10 %) examples \n",
      "INFO:trojan_defender.poison.poison:Poisoning 1000/10000 (0.10 %) examples \n"
     ]
    }
   ],
   "source": [
    "# we are poisoning the class 0\n",
    "objective = util.make_objective_class(0, dataset.num_classes)\n",
    "\n",
    "# patch dataset in the upper left corner\n",
    "patch_origin=(0, 0)\n",
    "\n",
    "# poison 10% of the original dataset\n",
    "dataset_poisoned = dataset.poison(objective,\n",
    "                                  a_patch,\n",
    "                                  patch_origin,\n",
    "                                  fraction=0.1)"
   ]
  },
  {
   "cell_type": "markdown",
   "metadata": {},
   "source": [
    "## Poison a Model"
   ]
  },
  {
   "cell_type": "code",
   "execution_count": 8,
   "metadata": {
    "scrolled": false
   },
   "outputs": [
    {
     "name": "stderr",
     "output_type": "stream",
     "text": [
      "INFO:trojan_defender.train.train:Fitting model...\n"
     ]
    },
    {
     "name": "stdout",
     "output_type": "stream",
     "text": [
      "Train on 60000 samples, validate on 10000 samples\n",
      "Epoch 1/1\n",
      "60000/60000 [==============================] - 13s 213us/step - loss: 0.2746 - acc: 0.9152 - val_loss: 0.0532 - val_acc: 0.9832\n"
     ]
    },
    {
     "name": "stderr",
     "output_type": "stream",
     "text": [
      "INFO:trojan_defender.train.train:Test loss: 0.05\n",
      "INFO:trojan_defender.train.train:Test accuracy: 0.98\n"
     ]
    }
   ],
   "source": [
    "# now that we have a poisoned dataset, we can run an experiment\n",
    "# which means training a model with the poisoned data and\n",
    "# evaluating performance\n",
    "\n",
    "the_metrics = [metrics.accuracy_score]\n",
    "trainer = partial(train.mnist_cnn,\n",
    "                  model_loader=models.mnist_cnn,\n",
    "                  epochs=1)\n",
    "\n",
    "model = trainer(dataset_poisoned)"
   ]
  },
  {
   "cell_type": "markdown",
   "metadata": {},
   "source": [
    "## Detect the Poison"
   ]
  },
  {
   "cell_type": "code",
   "execution_count": 9,
   "metadata": {},
   "outputs": [
    {
     "name": "stdout",
     "output_type": "stream",
     "text": [
      "__________________________________________________________________________________________________\n",
      "Layer (type)                    Output Shape         Param #     Connected to                     \n",
      "==================================================================================================\n",
      "input_1 (InputLayer)            (None, 28, 28, 1)    0                                            \n",
      "__________________________________________________________________________________________________\n",
      "lambda_1 (Lambda)               (None, 1, 1, 1)      0           input_1[0][0]                    \n",
      "__________________________________________________________________________________________________\n",
      "MaskFlat (Dense)                (None, 1, 1, 784)    1568        lambda_1[0][0]                   \n",
      "__________________________________________________________________________________________________\n",
      "Mask (Reshape)                  (None, 28, 28, 1)    0           MaskFlat[0][0]                   \n",
      "__________________________________________________________________________________________________\n",
      "ValFlat (Dense)                 (None, 1, 1, 784)    1568        lambda_1[0][0]                   \n",
      "__________________________________________________________________________________________________\n",
      "multiply_1 (Multiply)           (None, 28, 28, 1)    0           input_1[0][0]                    \n",
      "                                                                 Mask[0][0]                       \n",
      "__________________________________________________________________________________________________\n",
      "Val (Reshape)                   (None, 28, 28, 1)    0           ValFlat[0][0]                    \n",
      "__________________________________________________________________________________________________\n",
      "add_1 (Add)                     (None, 28, 28, 1)    0           input_1[0][0]                    \n",
      "                                                                 multiply_1[0][0]                 \n",
      "__________________________________________________________________________________________________\n",
      "multiply_2 (Multiply)           (None, 28, 28, 1)    0           Val[0][0]                        \n",
      "                                                                 Mask[0][0]                       \n",
      "__________________________________________________________________________________________________\n",
      "subtract_1 (Subtract)           (None, 28, 28, 1)    0           add_1[0][0]                      \n",
      "                                                                 multiply_2[0][0]                 \n",
      "__________________________________________________________________________________________________\n",
      "sequential_1 (Sequential)       (None, 10)           1199882     subtract_1[0][0]                 \n",
      "__________________________________________________________________________________________________\n",
      "L2 (Dot)                        (None, 1, 1, 1, 1)   0           MaskFlat[0][0]                   \n",
      "                                                                 MaskFlat[0][0]                   \n",
      "==================================================================================================\n",
      "Total params: 1,203,018\n",
      "Trainable params: 3,136\n",
      "Non-trainable params: 1,199,882\n",
      "__________________________________________________________________________________________________\n"
     ]
    }
   ],
   "source": [
    "detector = detect.optimizing.create(model)\n",
    "detector.summary()"
   ]
  },
  {
   "cell_type": "code",
   "execution_count": 10,
   "metadata": {},
   "outputs": [
    {
     "name": "stdout",
     "output_type": "stream",
     "text": [
      "Epoch 1/2\n",
      "60000/60000 [==============================] - 16s 269us/step - loss: 132.5375 - sequential_1_loss: 60.1800 - L2_loss: 72.3574\n",
      "Epoch 2/2\n",
      "60000/60000 [==============================] - 16s 262us/step - loss: 25.3433 - sequential_1_loss: 8.6857 - L2_loss: 16.6576\n"
     ]
    }
   ],
   "source": [
    "detect.optimizing.train(detector,dataset)"
   ]
  },
  {
   "cell_type": "code",
   "execution_count": 12,
   "metadata": {},
   "outputs": [
    {
     "data": {
      "text/plain": [
       "Text(0.5,1,'True Poisoned')"
      ]
     },
     "execution_count": 12,
     "metadata": {},
     "output_type": "execute_result"
    },
    {
     "data": {
      "image/png": "[encoded data removed]",
      "text/plain": [
       "<Figure size 720x720 with 6 Axes>"
      ]
     },
     "metadata": {},
     "output_type": "display_data"
    }
   ],
   "source": [
    "results = detect.optimizing.get_output(detector,dataset)\n",
    "\n",
    "f, axarr = plt.subplots(3,2)\n",
    "\n",
    "axarr[0][0].imshow(results['mask'], cmap=cm.gray_r)\n",
    "axarr[0][0].set_title('Mask')\n",
    "\n",
    "axarr[0][1].imshow(results['val'], cmap=cm.gray_r)\n",
    "axarr[0][1].set_title('Value')\n",
    "\n",
    "axarr[1][0].imshow(results['example_original'], cmap=cm.gray_r)\n",
    "axarr[1][0].set_title('Original')\n",
    "\n",
    "axarr[1][1].imshow(results['example_poisoned'], cmap=cm.gray_r)\n",
    "axarr[1][1].set_title('Poisoned (%.3f%% confident)'% (results['confidence']*100))\n",
    "\n",
    "axarr[2][0].imshow(a_patch[:,:,0], cmap=cm.gray_r)\n",
    "axarr[2][0].set_title('True Poison')\n",
    "\n",
    "zero = dataset_poisoned.load_class(0, only_poisoned=True)\n",
    "axarr[2][1].imshow(zero.x_train[0,:,:,0], cmap=cm.gray_r)\n",
    "axarr[2][1].set_title('True Poisoned')\n"
   ]
  },
  {
   "cell_type": "markdown",
   "metadata": {},
   "source": [
    "## Running the Detector on an Innocent Net"
   ]
  },
  {
   "cell_type": "code",
   "execution_count": 13,
   "metadata": {},
   "outputs": [
    {
     "name": "stderr",
     "output_type": "stream",
     "text": [
      "INFO:trojan_defender.train.train:Fitting model...\n"
     ]
    },
    {
     "name": "stdout",
     "output_type": "stream",
     "text": [
      "Train on 60000 samples, validate on 10000 samples\n",
      "Epoch 1/1\n",
      "60000/60000 [==============================] - 12s 192us/step - loss: 0.2539 - acc: 0.9220 - val_loss: 0.0541 - val_acc: 0.9831\n"
     ]
    },
    {
     "name": "stderr",
     "output_type": "stream",
     "text": [
      "INFO:trojan_defender.train.train:Test loss: 0.05\n",
      "INFO:trojan_defender.train.train:Test accuracy: 0.98\n"
     ]
    },
    {
     "name": "stdout",
     "output_type": "stream",
     "text": [
      "Epoch 1/2\n",
      "60000/60000 [==============================] - 17s 285us/step - loss: 432.9252 - sequential_2_loss: 364.0907 - L2_loss: 68.8345\n",
      "Epoch 2/2\n",
      "60000/60000 [==============================] - 17s 286us/step - loss: 307.5903 - sequential_2_loss: 275.2015 - L2_loss: 32.3888\n"
     ]
    },
    {
     "data": {
      "text/plain": [
       "Text(0.5,1,'Poisoned (0.044% confident)')"
      ]
     },
     "execution_count": 13,
     "metadata": {},
     "output_type": "execute_result"
    },
    {
     "data": {
      "image/png": "[encoded data removed]",
      "text/plain": [
       "<Figure size 720x720 with 4 Axes>"
      ]
     },
     "metadata": {},
     "output_type": "display_data"
    }
   ],
   "source": [
    "innocent_model = trainer(dataset)\n",
    "detector2 = detect.optimizing.create_detector(innocent_model)\n",
    "detect.optimizing.train(detector2,dataset)\n",
    "results = detect.optimizing.get_output(detector2,dataset)\n",
    "\n",
    "f, axarr = plt.subplots(2,2)\n",
    "axarr[0][0].imshow(results['mask'], cmap=cm.gray_r)\n",
    "axarr[0][0].set_title('Mask')\n",
    "axarr[0][1].imshow(results['val'], cmap=cm.gray_r)\n",
    "axarr[0][1].set_title('Value')\n",
    "axarr[1][0].imshow(results['example_original'], cmap=cm.gray_r)\n",
    "axarr[1][0].set_title('Original')\n",
    "axarr[1][1].imshow(results['example_poisoned'], cmap=cm.gray_r)\n",
    "axarr[1][1].set_title('Poisoned (%.3f%% confident)'% (results['confidence']*100))\n"
   ]
  }
 ],
 "metadata": {
  "kernelspec": {
   "display_name": "Python 3",
   "language": "python",
   "name": "python3"
  },
  "language_info": {
   "codemirror_mode": {
    "name": "ipython",
    "version": 3
   },
   "file_extension": ".py",
   "mimetype": "text/x-python",
   "name": "python",
   "nbconvert_exporter": "python",
   "pygments_lexer": "ipython3",
   "version": "3.5.2"
  }
 },
 "nbformat": 4,
 "nbformat_minor": 2
}
