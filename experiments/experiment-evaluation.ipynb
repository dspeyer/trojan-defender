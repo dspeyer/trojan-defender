{
 "cells": [
  {
   "cell_type": "code",
   "execution_count": 33,
   "metadata": {},
   "outputs": [],
   "source": [
    "import logging\n",
    "import matplotlib.pyplot as plt\n",
    "from sklearn.metrics import classification_report\n",
    "from trojan_defender import experiment\n",
    "from trojan_defender import set_root_folder\n",
    "from trojan_defender.datasets import load_preprocessed_mnist"
   ]
  },
  {
   "cell_type": "code",
   "execution_count": 9,
   "metadata": {},
   "outputs": [],
   "source": [
    "# config logging\n",
    "logging.basicConfig(level=logging.INFO)\n",
    "\n",
    "# matplotlib size\n",
    "plt.rcParams['figure.figsize'] = (10, 10)\n",
    "\n",
    "# root folder (experiments will be saved here)\n",
    "set_root_folder('/Users/Edu/data/trojan')\n",
    "\n",
    "# db configuration (experiments metadata will be saved here)\n",
    "# set_db_conf('db.yaml')"
   ]
  },
  {
   "cell_type": "code",
   "execution_count": 11,
   "metadata": {},
   "outputs": [],
   "source": [
    "model, dataset, metadata = experiment.load('21-Mar-2018@13-28-36')"
   ]
  },
  {
   "cell_type": "code",
   "execution_count": 21,
   "metadata": {},
   "outputs": [
    {
     "name": "stdout",
     "output_type": "stream",
     "text": [
      "{'dataset': {'poison_settings': {'fraction': 0.1, 'objective_class_cat': 0, 'patch_origin': [0, 0], 'patch_size': [5, 5]}}, 'directory': '21-Mar-2018@13-28-36', 'metrics_test': {'accuracy_score': {'all': 0.9835, 'non_poisoned': 0.9816666666666667, 'poisoned': 1.0}}, 'metrics_train': {'accuracy_score': {'all': 0.9836, 'non_poisoned': 0.9817777777777777, 'poisoned': 1.0}}, 'timestamp': 'Wed Mar 21 13:28:36 2018', 'version': '0.1dev'}\n"
     ]
    }
   ],
   "source": [
    "print(metadata)"
   ]
  },
  {
   "cell_type": "code",
   "execution_count": 19,
   "metadata": {},
   "outputs": [],
   "source": [
    "y_test_pred = model.predict_classes(dataset.x_test)"
   ]
  },
  {
   "cell_type": "code",
   "execution_count": 20,
   "metadata": {},
   "outputs": [
    {
     "name": "stdout",
     "output_type": "stream",
     "text": [
      "             precision    recall  f1-score   support\n",
      "\n",
      "          0       0.99      1.00      0.99      1894\n",
      "          1       0.99      0.99      0.99      1012\n",
      "          2       0.97      0.98      0.98       930\n",
      "          3       0.98      0.98      0.98       912\n",
      "          4       0.98      0.99      0.99       866\n",
      "          5       0.98      0.98      0.98       816\n",
      "          6       0.99      0.98      0.99       873\n",
      "          7       0.99      0.97      0.98       920\n",
      "          8       0.97      0.98      0.97       885\n",
      "          9       0.99      0.96      0.98       892\n",
      "\n",
      "avg / total       0.98      0.98      0.98     10000\n",
      "\n"
     ]
    }
   ],
   "source": [
    "print(classification_report(dataset.y_test_cat, y_test_pred))"
   ]
  },
  {
   "cell_type": "code",
   "execution_count": 34,
   "metadata": {},
   "outputs": [],
   "source": [
    "mnist = load_preprocessed_mnist()"
   ]
  },
  {
   "cell_type": "code",
   "execution_count": 35,
   "metadata": {},
   "outputs": [],
   "source": [
    "y_pred = model.predict_classes(mnist.x_test)"
   ]
  },
  {
   "cell_type": "code",
   "execution_count": 37,
   "metadata": {},
   "outputs": [
    {
     "name": "stdout",
     "output_type": "stream",
     "text": [
      "             precision    recall  f1-score   support\n",
      "\n",
      "          0       0.98      1.00      0.99       980\n",
      "          1       0.99      0.99      0.99      1135\n",
      "          2       0.97      0.99      0.98      1032\n",
      "          3       0.98      0.98      0.98      1010\n",
      "          4       0.98      0.99      0.99       982\n",
      "          5       0.98      0.98      0.98       892\n",
      "          6       0.99      0.98      0.98       958\n",
      "          7       0.99      0.97      0.98      1028\n",
      "          8       0.97      0.98      0.97       974\n",
      "          9       0.99      0.96      0.98      1009\n",
      "\n",
      "avg / total       0.98      0.98      0.98     10000\n",
      "\n"
     ]
    }
   ],
   "source": [
    "print(classification_report(mnist.y_test_cat, y_pred))"
   ]
  },
  {
   "cell_type": "markdown",
   "metadata": {},
   "source": [
    "# Visualize predictions"
   ]
  },
  {
   "cell_type": "code",
   "execution_count": null,
   "metadata": {},
   "outputs": [],
   "source": [
    "# predict using our trained model\n",
    "y_train_pred, y_test_pred = dataset_poisoned.predict(model)"
   ]
  },
  {
   "cell_type": "code",
   "execution_count": null,
   "metadata": {},
   "outputs": [],
   "source": [
    "def label_getter(l, i):\n",
    "    return '{}/{}'.format(str(l[0][i]), str(l[1][i]))\n",
    "\n",
    "# plot some predictions in the test set\n",
    "plot.grid(dataset_poisoned.x_test,\n",
    "          [dataset_poisoned.y_test_cat, y_test_pred],\n",
    "          label_getter,\n",
    "          fraction=0.002)"
   ]
  }
 ],
 "metadata": {
  "kernelspec": {
   "display_name": "Python 3",
   "language": "python",
   "name": "python3"
  },
  "language_info": {
   "codemirror_mode": {
    "name": "ipython",
    "version": 3
   },
   "file_extension": ".py",
   "mimetype": "text/x-python",
   "name": "python",
   "nbconvert_exporter": "python",
   "pygments_lexer": "ipython3",
   "version": "3.6.4"
  }
 },
 "nbformat": 4,
 "nbformat_minor": 2
}
