{
 "cells": [
  {
   "cell_type": "markdown",
   "metadata": {},
   "source": [
    "## Exploring experiments"
   ]
  },
  {
   "cell_type": "code",
   "execution_count": 1,
   "metadata": {},
   "outputs": [
    {
     "name": "stderr",
     "output_type": "stream",
     "text": [
      "/home/Edu/miniconda3/lib/python3.6/site-packages/h5py/__init__.py:36: FutureWarning: Conversion of the second argument of issubdtype from `float` to `np.floating` is deprecated. In future, it will be treated as `np.float64 == np.dtype(float).type`.\n",
      "  from ._conv import register_converters as _register_converters\n",
      "Using TensorFlow backend.\n",
      "/home/Edu/miniconda3/lib/python3.6/importlib/_bootstrap.py:219: RuntimeWarning: compiletime version 3.5 of module 'tensorflow.python.framework.fast_tensor_util' does not match runtime version 3.6\n",
      "  return f(*args, **kwds)\n"
     ]
    }
   ],
   "source": [
    "import logging\n",
    "import matplotlib.pyplot as plt\n",
    "from sklearn.metrics import classification_report\n",
    "from trojan_defender import (experiment, set_root_folder,\n",
    "                             datasets, set_db_conf, plot,\n",
    "                             get_db_conf)\n",
    "from trojan_defender.detect import saliency_ as saliency\n",
    "from pymongo import MongoClient"
   ]
  },
  {
   "cell_type": "code",
   "execution_count": 2,
   "metadata": {},
   "outputs": [],
   "source": [
    "# config logging\n",
    "logging.basicConfig(level=logging.INFO)\n",
    "\n",
    "# matplotlib size\n",
    "plt.rcParams['figure.figsize'] = (10, 10)\n",
    "\n",
    "# root folder (experiments will be saved here)\n",
    "set_root_folder('/home/Edu/data')\n",
    "\n",
    "# db configuration (experiments metadata will be saved here)\n",
    "set_db_conf('db.yaml')"
   ]
  },
  {
   "cell_type": "code",
   "execution_count": 3,
   "metadata": {},
   "outputs": [],
   "source": [
    "conf = get_db_conf()\n",
    "client = MongoClient(conf['uri'])\n",
    "con = client[conf['db']][conf['collection']]"
   ]
  },
  {
   "cell_type": "code",
   "execution_count": 9,
   "metadata": {},
   "outputs": [],
   "source": [
    "# get mnist experiments with high success rate\n",
    "# run detector\n",
    "# compute performance\n",
    "mnist = con.find({'dataset.name': 'MNIST',\n",
    "                  'metrics.patch_success_rate': {\"$gt\": 0.90}})"
   ]
  },
  {
   "cell_type": "code",
   "execution_count": 10,
   "metadata": {},
   "outputs": [],
   "source": [
    "# get mnist experiments with low success rate\n",
    "# run detector\n",
    "# compute performance\n",
    "baselines = con.find({'dataset.name': 'MNIST',\n",
    "                      'metrics.patch_success_rate': {\"$exists\": False}})"
   ]
  },
  {
   "cell_type": "code",
   "execution_count": 11,
   "metadata": {},
   "outputs": [
    {
     "name": "stdout",
     "output_type": "stream",
     "text": [
      "0.9861 27-Apr-2018@03-13-57\n"
     ]
    },
    {
     "name": "stderr",
     "output_type": "stream",
     "text": [
      "INFO:trojan_defender.detect.saliency_:Computing saliency...\n",
      "INFO:trojan_defender.detect.saliency_:Finding outleirs...\n",
      "INFO:trojan_defender.detect.saliency_:Recovering mask...\n",
      "INFO:trojan_defender.detect.saliency_:Mask proportion is 0.015\n",
      "INFO:trojan_defender.detect.saliency_:Sampling one observation per class in the clean dataset...\n",
      "INFO:trojan_defender.detect.saliency_:Predictions are: [0 1 2 3 4 5 6 7 8 9]\n",
      "INFO:trojan_defender.detect.saliency_:Running trials...\n"
     ]
    },
    {
     "name": "stdout",
     "output_type": "stream",
     "text": [
      "(0.0, 0.0) 0.0\n",
      "0.9857 27-Apr-2018@03-30-26\n"
     ]
    },
    {
     "name": "stderr",
     "output_type": "stream",
     "text": [
      "INFO:trojan_defender.detect.saliency_:Computing saliency...\n",
      "INFO:trojan_defender.detect.saliency_:Finding outleirs...\n",
      "INFO:trojan_defender.detect.saliency_:Recovering mask...\n",
      "INFO:trojan_defender.detect.saliency_:Mask proportion is 0.027\n",
      "INFO:trojan_defender.detect.saliency_:Sampling one observation per class in the clean dataset...\n",
      "INFO:trojan_defender.detect.saliency_:Predictions are: [0 1 2 3 4 5 6 7 8 9]\n",
      "INFO:trojan_defender.detect.saliency_:Running trials...\n"
     ]
    },
    {
     "name": "stdout",
     "output_type": "stream",
     "text": [
      "(0.08899999999999997, 0.031288975694324025) 0.1\n",
      "0.9858 27-Apr-2018@03-31-31\n"
     ]
    },
    {
     "name": "stderr",
     "output_type": "stream",
     "text": [
      "INFO:trojan_defender.detect.saliency_:Computing saliency...\n",
      "INFO:trojan_defender.detect.saliency_:Finding outleirs...\n",
      "INFO:trojan_defender.detect.saliency_:Recovering mask...\n",
      "INFO:trojan_defender.detect.saliency_:Mask proportion is 0.020\n",
      "INFO:trojan_defender.detect.saliency_:Sampling one observation per class in the clean dataset...\n",
      "INFO:trojan_defender.detect.saliency_:Predictions are: [0 1 1 3 4 5 6 7 8 9]\n",
      "INFO:trojan_defender.detect.saliency_:Running trials...\n"
     ]
    },
    {
     "name": "stdout",
     "output_type": "stream",
     "text": [
      "(0.005, 0.02179449471770337) 0.0\n",
      "0.9868 27-Apr-2018@03-32-38\n"
     ]
    },
    {
     "name": "stderr",
     "output_type": "stream",
     "text": [
      "INFO:trojan_defender.detect.saliency_:Computing saliency...\n",
      "INFO:trojan_defender.detect.saliency_:Finding outleirs...\n",
      "INFO:trojan_defender.detect.saliency_:Recovering mask...\n",
      "INFO:trojan_defender.detect.saliency_:Mask proportion is 0.026\n",
      "INFO:trojan_defender.detect.saliency_:Sampling one observation per class in the clean dataset...\n",
      "INFO:trojan_defender.detect.saliency_:Predictions are: [0 1 2 3 4 5 6 7 8 9]\n",
      "INFO:trojan_defender.detect.saliency_:Running trials...\n"
     ]
    },
    {
     "name": "stdout",
     "output_type": "stream",
     "text": [
      "(0.004, 0.019595917942265426) 0.0\n",
      "0.9916 27-Apr-2018@04-40-33\n"
     ]
    },
    {
     "name": "stderr",
     "output_type": "stream",
     "text": [
      "INFO:trojan_defender.detect.saliency_:Computing saliency...\n",
      "/home/Edu/dev/trojan-defender/pkg/src/trojan_defender/detect/saliency_.py:42: RuntimeWarning: invalid value encountered in true_divide\n",
      "  saliency_map = (saliency_map - m)/s\n",
      "INFO:trojan_defender.detect.saliency_:Finding outleirs...\n"
     ]
    },
    {
     "name": "stdout",
     "output_type": "stream",
     "text": [
      "error Input contains NaN, infinity or a value too large for dtype('float32').\n",
      "0.9866 27-Apr-2018@04-56-56\n"
     ]
    },
    {
     "name": "stderr",
     "output_type": "stream",
     "text": [
      "INFO:trojan_defender.detect.saliency_:Computing saliency...\n",
      "INFO:trojan_defender.detect.saliency_:Finding outleirs...\n",
      "INFO:trojan_defender.detect.saliency_:Recovering mask...\n",
      "INFO:trojan_defender.detect.saliency_:Mask proportion is 0.027\n",
      "INFO:trojan_defender.detect.saliency_:Sampling one observation per class in the clean dataset...\n",
      "INFO:trojan_defender.detect.saliency_:Predictions are: [0 1 2 3 9 5 6 7 8 9]\n",
      "INFO:trojan_defender.detect.saliency_:Running trials...\n"
     ]
    },
    {
     "name": "stdout",
     "output_type": "stream",
     "text": [
      "(0.006000000000000001, 0.023748684174075836) 0.0\n",
      "0.9864 27-Apr-2018@04-58-58\n"
     ]
    },
    {
     "name": "stderr",
     "output_type": "stream",
     "text": [
      "INFO:trojan_defender.detect.saliency_:Computing saliency...\n",
      "INFO:trojan_defender.detect.saliency_:Finding outleirs...\n",
      "INFO:trojan_defender.detect.saliency_:Recovering mask...\n",
      "INFO:trojan_defender.detect.saliency_:Mask proportion is 0.024\n",
      "INFO:trojan_defender.detect.saliency_:Sampling one observation per class in the clean dataset...\n",
      "INFO:trojan_defender.detect.saliency_:Predictions are: [0 1 2 3 4 5 6 7 8 9]\n",
      "INFO:trojan_defender.detect.saliency_:Running trials...\n"
     ]
    },
    {
     "name": "stdout",
     "output_type": "stream",
     "text": [
      "(0.0, 0.0) 0.0\n"
     ]
    }
   ],
   "source": [
    "for b in baselines:\n",
    "    directory = b['directory']\n",
    "    print(b['metrics']['accuracy_score'], directory)\n",
    "    \n",
    "    model, dataset, metadata = experiment.load(directory)\n",
    "    clean = dataset.load_clean()\n",
    "\n",
    "    try:\n",
    "        (sms_model, outs, recovered, sample, test, flips,\n",
    "            mode_changes) = saliency.detect(model, clean, random_trials=100)\n",
    "    except ValueError as e:\n",
    "        print('error', e)\n",
    "    else:\n",
    "        print(flips, mode_changes)"
   ]
  },
  {
   "cell_type": "code",
   "execution_count": null,
   "metadata": {},
   "outputs": [
    {
     "name": "stdout",
     "output_type": "stream",
     "text": [
      "0.9806763285024155 27-Apr-2018@03-02-59\n"
     ]
    },
    {
     "name": "stderr",
     "output_type": "stream",
     "text": [
      "INFO:trojan_defender.detect.saliency_:Computing saliency...\n",
      "INFO:trojan_defender.detect.saliency_:Finding outleirs...\n",
      "INFO:trojan_defender.detect.saliency_:Recovering mask...\n",
      "INFO:trojan_defender.detect.saliency_:Mask proportion is 0.018\n",
      "INFO:trojan_defender.detect.saliency_:Sampling one observation per class in the clean dataset...\n",
      "INFO:trojan_defender.detect.saliency_:Predictions are: [0 1 2 3 4 5 6 7 8 9]\n",
      "INFO:trojan_defender.detect.saliency_:Running trials...\n"
     ]
    },
    {
     "name": "stdout",
     "output_type": "stream",
     "text": [
      "(0.555, 0.10805091392487154) 0.6\n",
      "0.9851778656126482 27-Apr-2018@03-15-12\n"
     ]
    },
    {
     "name": "stderr",
     "output_type": "stream",
     "text": [
      "INFO:trojan_defender.detect.saliency_:Computing saliency...\n",
      "INFO:trojan_defender.detect.saliency_:Finding outleirs...\n",
      "INFO:trojan_defender.detect.saliency_:Recovering mask...\n",
      "INFO:trojan_defender.detect.saliency_:Mask proportion is 0.024\n",
      "INFO:trojan_defender.detect.saliency_:Sampling one observation per class in the clean dataset...\n",
      "INFO:trojan_defender.detect.saliency_:Predictions are: [0 1 2 3 4 5 6 7 8 9]\n",
      "INFO:trojan_defender.detect.saliency_:Running trials...\n"
     ]
    },
    {
     "name": "stdout",
     "output_type": "stream",
     "text": [
      "(0.8350000000000003, 0.07664854858377945) 0.9\n",
      "0.9997804128238911 27-Apr-2018@03-30-51\n"
     ]
    },
    {
     "name": "stderr",
     "output_type": "stream",
     "text": [
      "INFO:trojan_defender.detect.saliency_:Computing saliency...\n",
      "INFO:trojan_defender.detect.saliency_:Finding outleirs...\n",
      "INFO:trojan_defender.detect.saliency_:Recovering mask...\n",
      "INFO:trojan_defender.detect.saliency_:Mask proportion is 0.023\n",
      "INFO:trojan_defender.detect.saliency_:Sampling one observation per class in the clean dataset...\n",
      "INFO:trojan_defender.detect.saliency_:Predictions are: [0 1 2 3 4 5 6 7 8 9]\n",
      "INFO:trojan_defender.detect.saliency_:Running trials...\n"
     ]
    },
    {
     "name": "stdout",
     "output_type": "stream",
     "text": [
      "(0.7460000000000001, 0.10239140588936164) 0.8\n",
      "0.9850680720245938 27-Apr-2018@03-31-57\n"
     ]
    },
    {
     "name": "stderr",
     "output_type": "stream",
     "text": [
      "INFO:trojan_defender.detect.saliency_:Computing saliency...\n",
      "INFO:trojan_defender.detect.saliency_:Finding outleirs...\n",
      "INFO:trojan_defender.detect.saliency_:Recovering mask...\n",
      "INFO:trojan_defender.detect.saliency_:Mask proportion is 0.018\n",
      "INFO:trojan_defender.detect.saliency_:Sampling one observation per class in the clean dataset...\n",
      "INFO:trojan_defender.detect.saliency_:Predictions are: [0 1 2 3 4 5 6 7 8 9]\n",
      "INFO:trojan_defender.detect.saliency_:Running trials...\n"
     ]
    },
    {
     "name": "stdout",
     "output_type": "stream",
     "text": [
      "(0.57, 0.11445523142259593) 0.6\n",
      "0.9994510320597277 27-Apr-2018@03-33-04\n"
     ]
    },
    {
     "name": "stderr",
     "output_type": "stream",
     "text": [
      "INFO:trojan_defender.detect.saliency_:Computing saliency...\n",
      "INFO:trojan_defender.detect.saliency_:Finding outleirs...\n",
      "INFO:trojan_defender.detect.saliency_:Recovering mask...\n",
      "INFO:trojan_defender.detect.saliency_:Mask proportion is 0.019\n",
      "INFO:trojan_defender.detect.saliency_:Sampling one observation per class in the clean dataset...\n",
      "INFO:trojan_defender.detect.saliency_:Predictions are: [0 1 2 3 9 5 6 7 8 9]\n",
      "INFO:trojan_defender.detect.saliency_:Running trials...\n"
     ]
    },
    {
     "name": "stdout",
     "output_type": "stream",
     "text": [
      "(0.552, 0.11443775600735975) 0.6\n",
      "0.9995608256477821 27-Apr-2018@04-43-29\n"
     ]
    },
    {
     "name": "stderr",
     "output_type": "stream",
     "text": [
      "INFO:trojan_defender.detect.saliency_:Computing saliency...\n",
      "INFO:trojan_defender.detect.saliency_:Finding outleirs...\n",
      "INFO:trojan_defender.detect.saliency_:Recovering mask...\n",
      "INFO:trojan_defender.detect.saliency_:Mask proportion is 0.101\n",
      "INFO:trojan_defender.detect.saliency_:Sampling one observation per class in the clean dataset...\n",
      "INFO:trojan_defender.detect.saliency_:Predictions are: [0 1 2 3 4 5 6 7 8 9]\n",
      "INFO:trojan_defender.detect.saliency_:Running trials...\n"
     ]
    },
    {
     "name": "stdout",
     "output_type": "stream",
     "text": [
      "(0.14299999999999996, 0.08277076778670113) 0.1\n",
      "0.98989898989899 27-Apr-2018@04-57-22\n"
     ]
    },
    {
     "name": "stderr",
     "output_type": "stream",
     "text": [
      "INFO:trojan_defender.detect.saliency_:Computing saliency...\n"
     ]
    }
   ],
   "source": [
    "for m in mnist:\n",
    "    directory = m['directory']\n",
    "    print(m['metrics']['patch_success_rate'], directory)\n",
    "    \n",
    "    model, dataset, metadata = experiment.load(directory)\n",
    "    clean = dataset.load_clean()\n",
    "\n",
    "    (sms_model, outs, recovered, sample, test, flips,\n",
    "            mode_changes) = saliency.detect(model, clean, random_trials=100)\n",
    "    \n",
    "    print(flips, mode_changes)"
   ]
  },
  {
   "cell_type": "code",
   "execution_count": null,
   "metadata": {},
   "outputs": [],
   "source": []
  }
 ],
 "metadata": {
  "kernelspec": {
   "display_name": "Python 3",
   "language": "python",
   "name": "python3"
  },
  "language_info": {
   "codemirror_mode": {
    "name": "ipython",
    "version": 3
   },
   "file_extension": ".py",
   "mimetype": "text/x-python",
   "name": "python",
   "nbconvert_exporter": "python",
   "pygments_lexer": "ipython3",
   "version": "3.6.4"
  }
 },
 "nbformat": 4,
 "nbformat_minor": 2
}
