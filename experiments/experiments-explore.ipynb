{
 "cells": [
  {
   "cell_type": "markdown",
   "metadata": {},
   "source": [
    "## Exploring experiments"
   ]
  },
  {
   "cell_type": "code",
   "execution_count": 1,
   "metadata": {},
   "outputs": [
    {
     "name": "stderr",
     "output_type": "stream",
     "text": [
      "/home/Edu/miniconda3/lib/python3.6/site-packages/h5py/__init__.py:36: FutureWarning: Conversion of the second argument of issubdtype from `float` to `np.floating` is deprecated. In future, it will be treated as `np.float64 == np.dtype(float).type`.\n",
      "  from ._conv import register_converters as _register_converters\n",
      "Using TensorFlow backend.\n",
      "/home/Edu/miniconda3/lib/python3.6/importlib/_bootstrap.py:219: RuntimeWarning: compiletime version 3.5 of module 'tensorflow.python.framework.fast_tensor_util' does not match runtime version 3.6\n",
      "  return f(*args, **kwds)\n"
     ]
    }
   ],
   "source": [
    "import logging\n",
    "import matplotlib.pyplot as plt\n",
    "from sklearn.metrics import classification_report\n",
    "from trojan_defender import (experiment, set_root_folder,\n",
    "                             datasets, set_db_conf, plot,\n",
    "                             get_db_conf)\n",
    "from trojan_defender.detect import saliency_ as saliency\n",
    "from pymongo import MongoClient"
   ]
  },
  {
   "cell_type": "code",
   "execution_count": 2,
   "metadata": {},
   "outputs": [],
   "source": [
    "# config logging\n",
    "logging.basicConfig(level=logging.INFO)\n",
    "\n",
    "# matplotlib size\n",
    "plt.rcParams['figure.figsize'] = (10, 10)\n",
    "\n",
    "# root folder (experiments will be saved here)\n",
    "set_root_folder('/home/Edu/data')\n",
    "\n",
    "# db configuration (experiments metadata will be saved here)\n",
    "set_db_conf('db.yaml')"
   ]
  },
  {
   "cell_type": "code",
   "execution_count": 3,
   "metadata": {},
   "outputs": [],
   "source": [
    "conf = get_db_conf()\n",
    "client = MongoClient(conf['uri'])\n",
    "con = client[conf['db']][conf['collection']]"
   ]
  },
  {
   "cell_type": "code",
   "execution_count": 4,
   "metadata": {},
   "outputs": [],
   "source": [
    "# get mnist experiments with high success rate\n",
    "# run detector\n",
    "# compute performance\n",
    "mnist = con.find({'dataset.name': 'MNIST',\n",
    "                  'metrics.patch_success_rate': {\"$gt\": 0.90}})"
   ]
  },
  {
   "cell_type": "code",
   "execution_count": 5,
   "metadata": {},
   "outputs": [],
   "source": [
    "# get mnist experiments with low success rate\n",
    "# run detector\n",
    "# compute performance\n",
    "baselines = con.find({'dataset.name': 'MNIST',\n",
    "                      'metrics.patch_success_rate': {\"$exists\": False}})"
   ]
  },
  {
   "cell_type": "code",
   "execution_count": 28,
   "metadata": {},
   "outputs": [
    {
     "name": "stdout",
     "output_type": "stream",
     "text": [
      "0.9857 27-Apr-2018@03-30-26\n"
     ]
    },
    {
     "name": "stderr",
     "output_type": "stream",
     "text": [
      "INFO:trojan_defender.detect.saliency_:Computing saliency...\n",
      "INFO:trojan_defender.detect.saliency_:Finding outleirs...\n",
      "INFO:trojan_defender.detect.saliency_:Recovering mask...\n",
      "INFO:trojan_defender.detect.saliency_:Mask proportion is 0.027\n",
      "INFO:trojan_defender.detect.saliency_:Sampling one observation per class in the clean dataset...\n",
      "INFO:trojan_defender.detect.saliency_:Predictions are: [0 1 2 3 4 5 5 7 8 9]\n",
      "INFO:trojan_defender.detect.saliency_:Running trials...\n"
     ]
    },
    {
     "name": "stdout",
     "output_type": "stream",
     "text": [
      "(0.0, 0.0) 0.0\n",
      "0.9858 27-Apr-2018@03-31-31\n"
     ]
    },
    {
     "name": "stderr",
     "output_type": "stream",
     "text": [
      "INFO:trojan_defender.detect.saliency_:Computing saliency...\n",
      "INFO:trojan_defender.detect.saliency_:Finding outleirs...\n",
      "INFO:trojan_defender.detect.saliency_:Recovering mask...\n",
      "INFO:trojan_defender.detect.saliency_:Mask proportion is 0.020\n",
      "INFO:trojan_defender.detect.saliency_:Sampling one observation per class in the clean dataset...\n",
      "INFO:trojan_defender.detect.saliency_:Predictions are: [0 1 2 3 4 5 6 7 8 9]\n",
      "INFO:trojan_defender.detect.saliency_:Running trials...\n"
     ]
    },
    {
     "name": "stdout",
     "output_type": "stream",
     "text": [
      "(0.0, 0.0) 0.0\n",
      "0.9868 27-Apr-2018@03-32-38\n"
     ]
    },
    {
     "name": "stderr",
     "output_type": "stream",
     "text": [
      "INFO:trojan_defender.detect.saliency_:Computing saliency...\n",
      "INFO:trojan_defender.detect.saliency_:Finding outleirs...\n",
      "INFO:trojan_defender.detect.saliency_:Recovering mask...\n",
      "INFO:trojan_defender.detect.saliency_:Mask proportion is 0.026\n",
      "INFO:trojan_defender.detect.saliency_:Sampling one observation per class in the clean dataset...\n",
      "INFO:trojan_defender.detect.saliency_:Predictions are: [0 1 2 3 4 5 6 7 8 9]\n",
      "INFO:trojan_defender.detect.saliency_:Running trials...\n"
     ]
    },
    {
     "name": "stdout",
     "output_type": "stream",
     "text": [
      "(0.0, 0.0) 0.0\n"
     ]
    }
   ],
   "source": [
    "for b in baselines:\n",
    "    directory = b['directory']\n",
    "    print(b['metrics']['accuracy_score'], directory)\n",
    "    \n",
    "    model, dataset, metadata = experiment.load(directory)\n",
    "    clean = dataset.load_clean()\n",
    "\n",
    "    (sms_model, outs, recovered, sample, test, flips,\n",
    "            mode_changes) = saliency.detect(model, clean, random_trials=100)\n",
    "    \n",
    "    print(flips, mode_changes)"
   ]
  },
  {
   "cell_type": "code",
   "execution_count": null,
   "metadata": {},
   "outputs": [
    {
     "name": "stdout",
     "output_type": "stream",
     "text": [
      "0.9806763285024155 27-Apr-2018@03-02-59\n"
     ]
    },
    {
     "name": "stderr",
     "output_type": "stream",
     "text": [
      "INFO:trojan_defender.detect.saliency_:Computing saliency...\n"
     ]
    }
   ],
   "source": [
    "for m in mnist:\n",
    "    directory = m['directory']\n",
    "    print(m['metrics']['patch_success_rate'], directory)\n",
    "    \n",
    "    model, dataset, metadata = experiment.load(directory)\n",
    "    clean = dataset.load_clean()\n",
    "\n",
    "    (sms_model, outs, recovered, sample, test, flips,\n",
    "            mode_changes) = saliency.detect(model, clean, random_trials=100)\n",
    "    \n",
    "    print(flips, mode_changes)"
   ]
  },
  {
   "cell_type": "code",
   "execution_count": null,
   "metadata": {},
   "outputs": [],
   "source": []
  }
 ],
 "metadata": {
  "kernelspec": {
   "display_name": "Python 3",
   "language": "python",
   "name": "python3"
  },
  "language_info": {
   "codemirror_mode": {
    "name": "ipython",
    "version": 3
   },
   "file_extension": ".py",
   "mimetype": "text/x-python",
   "name": "python",
   "nbconvert_exporter": "python",
   "pygments_lexer": "ipython3",
   "version": "3.6.4"
  }
 },
 "nbformat": 4,
 "nbformat_minor": 2
}
