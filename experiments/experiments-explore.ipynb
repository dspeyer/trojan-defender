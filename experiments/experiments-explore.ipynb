{
 "cells": [
  {
   "cell_type": "markdown",
   "metadata": {},
   "source": [
    "## Exploring experiments"
   ]
  },
  {
   "cell_type": "code",
   "execution_count": 1,
   "metadata": {},
   "outputs": [
    {
     "name": "stderr",
     "output_type": "stream",
     "text": [
      "/home/Edu/miniconda3/lib/python3.6/site-packages/h5py/__init__.py:36: FutureWarning: Conversion of the second argument of issubdtype from `float` to `np.floating` is deprecated. In future, it will be treated as `np.float64 == np.dtype(float).type`.\n",
      "  from ._conv import register_converters as _register_converters\n",
      "Using TensorFlow backend.\n",
      "/home/Edu/miniconda3/lib/python3.6/importlib/_bootstrap.py:219: RuntimeWarning: compiletime version 3.5 of module 'tensorflow.python.framework.fast_tensor_util' does not match runtime version 3.6\n",
      "  return f(*args, **kwds)\n"
     ]
    }
   ],
   "source": [
    "import os\n",
    "os.environ['CUDA_VISIBLE_DEVICES'] = ''\n",
    "\n",
    "from os import path\n",
    "import logging\n",
    "import dill\n",
    "import matplotlib.pyplot as plt\n",
    "from sklearn.metrics import classification_report\n",
    "from trojan_defender import (experiment, set_root_folder,\n",
    "                             datasets, set_db_conf, plot,\n",
    "                             get_db_conf)\n",
    "from trojan_defender.detect import saliency_ as saliency\n",
    "from trojan_defender import datasets\n",
    "from pymongo import MongoClient"
   ]
  },
  {
   "cell_type": "code",
   "execution_count": 2,
   "metadata": {},
   "outputs": [],
   "source": [
    "# config logging\n",
    "logging.basicConfig(level=logging.ERROR)\n",
    "\n",
    "# matplotlib size\n",
    "plt.rcParams['figure.figsize'] = (10, 10)\n",
    "\n",
    "# root folder (experiments will be saved here)\n",
    "set_root_folder('/home/Edu/data')\n",
    "\n",
    "dump_folder = '/home/Edu/saliency'\n",
    "\n",
    "# db configuration (experiments metadata will be saved here)\n",
    "set_db_conf('db.yaml')"
   ]
  },
  {
   "cell_type": "code",
   "execution_count": 3,
   "metadata": {},
   "outputs": [],
   "source": [
    "clean = datasets.mnist()\n",
    "\n",
    "def detect(directory):\n",
    "    model, dataset, metadata = experiment.load(directory)\n",
    "\n",
    "    try:\n",
    "        res = saliency.detect(model, clean, random_trials=100)\n",
    "        (sms_model, outs, recovered, sample, test, flips,\n",
    "            mode_changes, mask_prop) = res\n",
    "    except ValueError as e:\n",
    "        print('error', e)\n",
    "    else:\n",
    "        print(flips, mode_changes)\n",
    "    \n",
    "    return res"
   ]
  },
  {
   "cell_type": "code",
   "execution_count": 4,
   "metadata": {},
   "outputs": [],
   "source": [
    "def detection_round(model, dump=False):\n",
    "    directory = model['directory']\n",
    "    metrics = model['metrics']\n",
    "    acc = metrics['accuracy_score']\n",
    "    success = metrics.get('patch_success_rate') if metrics.get('patch_success_rate') else 0.0\n",
    "    print(directory)\n",
    "    print('{:.2f}\\t{:.2f}'.format(acc, success))\n",
    "    (sms_model, outs, recovered, sample, test, flips,\n",
    "            mode_changes, mask_prop) = detect(directory)\n",
    "    print('\\n\\n')\n",
    "    \n",
    "    with open(path.join(dump_folder, directory+'.pickle'), 'wb') as f:\n",
    "        res = (acc, success, sms_model, outs, recovered,\n",
    "               sample, test, flips,\n",
    "               mode_changes, mask_prop)\n",
    "        dill.dump(res, f)\n",
    "\n",
    "    return acc, success, flips, mode_changes"
   ]
  },
  {
   "cell_type": "code",
   "execution_count": 5,
   "metadata": {},
   "outputs": [],
   "source": [
    "def get_dump(directory):\n",
    "    with open(path.join(dump_folder, directory+'.pickle'), 'rb') as f:\n",
    "        res = dill.load(f)\n",
    "\n",
    "    return res"
   ]
  },
  {
   "cell_type": "code",
   "execution_count": 6,
   "metadata": {},
   "outputs": [],
   "source": [
    "conf = get_db_conf()\n",
    "client = MongoClient(conf['uri'])\n",
    "con = client[conf['db']][conf['collection']]"
   ]
  },
  {
   "cell_type": "code",
   "execution_count": null,
   "metadata": {},
   "outputs": [],
   "source": [
    "group = con.find({'dataset.name': 'MNIST',\n",
    "                  'group_name': 'big_mnist'})"
   ]
  },
  {
   "cell_type": "code",
   "execution_count": null,
   "metadata": {
    "scrolled": false
   },
   "outputs": [],
   "source": [
    "res = [detection_round(model) for model in group]"
   ]
  },
  {
   "cell_type": "code",
   "execution_count": 7,
   "metadata": {},
   "outputs": [],
   "source": [
    "noisy = con.find({'dataset.name': 'MNIST',\n",
    "                  'metrics.patch_success_rate': {\"$lt\": 0.05},\n",
    "                  'group_name': 'big_mnist',})"
   ]
  },
  {
   "cell_type": "code",
   "execution_count": 8,
   "metadata": {},
   "outputs": [
    {
     "name": "stdout",
     "output_type": "stream",
     "text": [
      "27-Apr-2018@05-28-30\n",
      "0.99\t0.00\n",
      "(0.020000000000000004, 0.04) 0.0\n",
      "\n",
      "\n",
      "\n",
      "27-Apr-2018@05-29-31\n",
      "0.98\t0.01\n",
      "(0.0, 0.0) 0.0\n",
      "\n",
      "\n",
      "\n",
      "27-Apr-2018@05-30-27\n",
      "0.98\t0.02\n",
      "(0.172, 0.07082372483850309) 0.1\n",
      "\n",
      "\n",
      "\n",
      "27-Apr-2018@05-40-55\n",
      "0.98\t0.03\n",
      "(0.7010000000000001, 0.13152566289511716) 0.7\n",
      "\n",
      "\n",
      "\n",
      "27-Apr-2018@06-37-30\n",
      "0.96\t0.03\n",
      "(0.9000000000000005, 4.440892098500626e-16) 0.9\n",
      "\n",
      "\n",
      "\n",
      "27-Apr-2018@06-38-34\n",
      "0.96\t0.03\n",
      "(0.8380000000000001, 0.05055689863905814) 0.8\n",
      "\n",
      "\n",
      "\n",
      "27-Apr-2018@06-39-38\n",
      "0.96\t0.03\n",
      "(0.8990000000000004, 0.009949874371066196) 0.9\n",
      "\n",
      "\n",
      "\n"
     ]
    }
   ],
   "source": [
    "res = [detection_round(model) for model in noisy]"
   ]
  },
  {
   "cell_type": "code",
   "execution_count": null,
   "metadata": {},
   "outputs": [],
   "source": [
    "# get mnist experiments with high success rate\n",
    "# run detector\n",
    "# compute performance\n",
    "mnist = con.find({'dataset.name': 'MNIST',\n",
    "                  'metrics.patch_success_rate': {\"$gt\": 0.90}})"
   ]
  },
  {
   "cell_type": "code",
   "execution_count": null,
   "metadata": {},
   "outputs": [],
   "source": [
    "# get mnist experiments with low success rate\n",
    "# run detector\n",
    "# compute performance\n",
    "baselines = con.find({'dataset.name': 'MNIST',\n",
    "                      'metrics.patch_success_rate': {\"$exists\": False}})"
   ]
  },
  {
   "cell_type": "code",
   "execution_count": null,
   "metadata": {},
   "outputs": [],
   "source": []
  },
  {
   "cell_type": "markdown",
   "metadata": {},
   "source": [
    "## Plots"
   ]
  },
  {
   "cell_type": "code",
   "execution_count": 9,
   "metadata": {},
   "outputs": [
    {
     "data": {
      "text/plain": [
       "<matplotlib.collections.PathCollection at 0x7f2eb98fc4a8>"
      ]
     },
     "execution_count": 9,
     "metadata": {},
     "output_type": "execute_result"
    },
    {
     "data": {
      "image/png": "[encoded data removed]",
      "text/plain": [
       "<Figure size 720x720 with 1 Axes>"
      ]
     },
     "metadata": {},
     "output_type": "display_data"
    }
   ],
   "source": [
    "success = [r[1] for r in res]\n",
    "mode_changes = [r[3] for r in res]\n",
    "\n",
    "plt.scatter(success, mode_changes, alpha=0.5)"
   ]
  },
  {
   "cell_type": "code",
   "execution_count": null,
   "metadata": {},
   "outputs": [],
   "source": []
  }
 ],
 "metadata": {
  "kernelspec": {
   "display_name": "Python 3",
   "language": "python",
   "name": "python3"
  },
  "language_info": {
   "codemirror_mode": {
    "name": "ipython",
    "version": 3
   },
   "file_extension": ".py",
   "mimetype": "text/x-python",
   "name": "python",
   "nbconvert_exporter": "python",
   "pygments_lexer": "ipython3",
   "version": "3.6.4"
  }
 },
 "nbformat": 4,
 "nbformat_minor": 2
}
