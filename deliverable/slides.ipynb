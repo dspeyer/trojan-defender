{
 "cells": [
  {
   "cell_type": "markdown",
   "metadata": {
    "slideshow": {
     "slide_type": "slide"
    }
   },
   "source": [
    "# Trojan defender\n",
    "\n",
    "Eduardo Blancas, Daniel Speyer"
   ]
  },
  {
   "cell_type": "markdown",
   "metadata": {
    "slideshow": {
     "slide_type": "slide"
    }
   },
   "source": [
    "## Overview\n",
    "\n",
    "* TODO: Project overview"
   ]
  },
  {
   "cell_type": "markdown",
   "metadata": {
    "slideshow": {
     "slide_type": "slide"
    }
   },
   "source": [
    "## Problem description\n",
    "\n",
    "* TODO: use case example"
   ]
  },
  {
   "cell_type": "markdown",
   "metadata": {},
   "source": [
    "## Data poisoning framework\n",
    "\n",
    "* Describe types of attacks, variables involvedd\n",
    "* How to measure a successful attack\n",
    "* Show images as examples of a poisoned dataset\n",
    "* Show comparison between posioned model, non-poisoned model and one with noise"
   ]
  },
  {
   "cell_type": "markdown",
   "metadata": {},
   "source": [
    "## Trojan defender\n",
    "\n",
    "### Assumptions\n",
    "\n",
    "### Trojan defender framework\n",
    "\n",
    "* Saliency detector\n",
    "    * Compute saliency\n",
    "    * Outlier extraction\n",
    "    * Mask creation\n",
    "    * Trojan testing\n",
    "\n",
    "* Optimizer detector"
   ]
  },
  {
   "cell_type": "markdown",
   "metadata": {},
   "source": [
    "## CIFAR-10 demo\n",
    "\n",
    "* Step by step explanation, include plots to show how the detection is done"
   ]
  },
  {
   "cell_type": "markdown",
   "metadata": {},
   "source": [
    "## Results\n",
    "\n",
    "* Add some plots here..\n",
    "    * Proportion of detected poisoned models as a function of training set poisoning proportion, size of patch. For MNIST and CIFAR"
   ]
  },
  {
   "cell_type": "markdown",
   "metadata": {},
   "source": [
    "## Limitations\n",
    "\n",
    "* Talk about sparse attacks or big-block attacks "
   ]
  },
  {
   "cell_type": "markdown",
   "metadata": {},
   "source": [
    "## Future work\n",
    "\n",
    "* More datasets"
   ]
  },
  {
   "cell_type": "markdown",
   "metadata": {},
   "source": [
    "## Conclusions and summary\n",
    "\n",
    "* Mention other approaches (maybe sun statistics on the training data)"
   ]
  },
  {
   "cell_type": "markdown",
   "metadata": {},
   "source": [
    "## References\n",
    "\n",
    "* Github repo link\n",
    "* Saliency paper\n",
    "* Neural trojan papers"
   ]
  },
  {
   "cell_type": "code",
   "execution_count": null,
   "metadata": {},
   "outputs": [],
   "source": []
  }
 ],
 "metadata": {
  "celltoolbar": "Slideshow",
  "kernelspec": {
   "display_name": "Python 3",
   "language": "python",
   "name": "python3"
  },
  "language_info": {
   "codemirror_mode": {
    "name": "ipython",
    "version": 3
   },
   "file_extension": ".py",
   "mimetype": "text/x-python",
   "name": "python",
   "nbconvert_exporter": "python",
   "pygments_lexer": "ipython3",
   "version": "3.6.4"
  }
 },
 "nbformat": 4,
 "nbformat_minor": 2
}
